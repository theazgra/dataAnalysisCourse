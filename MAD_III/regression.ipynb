{
 "nbformat": 4,
 "nbformat_minor": 2,
 "metadata": {
  "language_info": {
   "name": "python",
   "codemirror_mode": {
    "name": "ipython",
    "version": 3
   },
   "version": "3.7.3"
  },
  "orig_nbformat": 2,
  "file_extension": ".py",
  "mimetype": "text/x-python",
  "name": "python",
  "npconvert_exporter": "python",
  "pygments_lexer": "ipython3",
  "version": 3
 },
 "cells": [
  {
   "cell_type": "code",
   "execution_count": 57,
   "metadata": {},
   "outputs": [],
   "source": [
    "import pandas as pd\n",
    "import matplotlib.pyplot as plt\n",
    "from sklearn.linear_model import Ridge\n",
    "from sklearn.svm import SVR\n",
    "from sklearn.tree import DecisionTreeRegressor\n",
    "from sklearn.neural_network import MLPRegressor\n",
    "from sklearn.metrics import mean_squared_error\n",
    "from sklearn.metrics import max_error\n",
    "from sklearn.metrics import r2_score"
   ]
  },
  {
   "cell_type": "code",
   "execution_count": 36,
   "metadata": {},
   "outputs": [
    {
     "data": {
      "text/html": "<div>\n<style scoped>\n    .dataframe tbody tr th:only-of-type {\n        vertical-align: middle;\n    }\n\n    .dataframe tbody tr th {\n        vertical-align: top;\n    }\n\n    .dataframe thead th {\n        text-align: right;\n    }\n</style>\n<table border=\"1\" class=\"dataframe\">\n  <thead>\n    <tr style=\"text-align: right;\">\n      <th></th>\n      <th>day</th>\n      <th>season</th>\n      <th>yr</th>\n      <th>mnth</th>\n      <th>hr</th>\n      <th>holiday</th>\n      <th>weekday</th>\n      <th>workingday</th>\n      <th>weathersit</th>\n      <th>temp</th>\n      <th>atemp</th>\n      <th>hum</th>\n      <th>windspeed</th>\n    </tr>\n  </thead>\n  <tbody>\n    <tr>\n      <th>0</th>\n      <td>13</td>\n      <td>4</td>\n      <td>1</td>\n      <td>10</td>\n      <td>5</td>\n      <td>0</td>\n      <td>6</td>\n      <td>0</td>\n      <td>1</td>\n      <td>0.30</td>\n      <td>0.2879</td>\n      <td>0.61</td>\n      <td>0.1940</td>\n    </tr>\n    <tr>\n      <th>1</th>\n      <td>14</td>\n      <td>2</td>\n      <td>0</td>\n      <td>6</td>\n      <td>14</td>\n      <td>0</td>\n      <td>2</td>\n      <td>1</td>\n      <td>2</td>\n      <td>0.64</td>\n      <td>0.6212</td>\n      <td>0.47</td>\n      <td>0.1940</td>\n    </tr>\n    <tr>\n      <th>2</th>\n      <td>26</td>\n      <td>3</td>\n      <td>1</td>\n      <td>8</td>\n      <td>6</td>\n      <td>0</td>\n      <td>0</td>\n      <td>0</td>\n      <td>1</td>\n      <td>0.62</td>\n      <td>0.5606</td>\n      <td>0.88</td>\n      <td>0.2985</td>\n    </tr>\n    <tr>\n      <th>3</th>\n      <td>14</td>\n      <td>1</td>\n      <td>1</td>\n      <td>2</td>\n      <td>1</td>\n      <td>0</td>\n      <td>2</td>\n      <td>1</td>\n      <td>2</td>\n      <td>0.26</td>\n      <td>0.3030</td>\n      <td>0.56</td>\n      <td>0.0000</td>\n    </tr>\n    <tr>\n      <th>4</th>\n      <td>8</td>\n      <td>3</td>\n      <td>1</td>\n      <td>9</td>\n      <td>20</td>\n      <td>0</td>\n      <td>6</td>\n      <td>0</td>\n      <td>2</td>\n      <td>0.58</td>\n      <td>0.5455</td>\n      <td>0.88</td>\n      <td>0.0896</td>\n    </tr>\n    <tr>\n      <th>5</th>\n      <td>23</td>\n      <td>3</td>\n      <td>1</td>\n      <td>6</td>\n      <td>14</td>\n      <td>0</td>\n      <td>6</td>\n      <td>0</td>\n      <td>1</td>\n      <td>0.78</td>\n      <td>0.6818</td>\n      <td>0.33</td>\n      <td>0.2537</td>\n    </tr>\n    <tr>\n      <th>6</th>\n      <td>3</td>\n      <td>3</td>\n      <td>1</td>\n      <td>9</td>\n      <td>3</td>\n      <td>1</td>\n      <td>1</td>\n      <td>0</td>\n      <td>1</td>\n      <td>0.66</td>\n      <td>0.5909</td>\n      <td>0.89</td>\n      <td>0.1343</td>\n    </tr>\n    <tr>\n      <th>7</th>\n      <td>21</td>\n      <td>1</td>\n      <td>0</td>\n      <td>2</td>\n      <td>14</td>\n      <td>1</td>\n      <td>1</td>\n      <td>0</td>\n      <td>2</td>\n      <td>0.32</td>\n      <td>0.3030</td>\n      <td>0.76</td>\n      <td>0.2537</td>\n    </tr>\n    <tr>\n      <th>8</th>\n      <td>28</td>\n      <td>3</td>\n      <td>1</td>\n      <td>8</td>\n      <td>21</td>\n      <td>0</td>\n      <td>2</td>\n      <td>1</td>\n      <td>1</td>\n      <td>0.72</td>\n      <td>0.6667</td>\n      <td>0.48</td>\n      <td>0.0896</td>\n    </tr>\n    <tr>\n      <th>9</th>\n      <td>9</td>\n      <td>3</td>\n      <td>1</td>\n      <td>9</td>\n      <td>23</td>\n      <td>0</td>\n      <td>0</td>\n      <td>0</td>\n      <td>1</td>\n      <td>0.56</td>\n      <td>0.5303</td>\n      <td>0.52</td>\n      <td>0.2836</td>\n    </tr>\n    <tr>\n      <th>10</th>\n      <td>2</td>\n      <td>3</td>\n      <td>1</td>\n      <td>8</td>\n      <td>12</td>\n      <td>0</td>\n      <td>4</td>\n      <td>1</td>\n      <td>1</td>\n      <td>0.84</td>\n      <td>0.7576</td>\n      <td>0.44</td>\n      <td>0.1343</td>\n    </tr>\n    <tr>\n      <th>11</th>\n      <td>18</td>\n      <td>1</td>\n      <td>1</td>\n      <td>2</td>\n      <td>3</td>\n      <td>0</td>\n      <td>6</td>\n      <td>0</td>\n      <td>1</td>\n      <td>0.28</td>\n      <td>0.2879</td>\n      <td>0.65</td>\n      <td>0.1045</td>\n    </tr>\n    <tr>\n      <th>12</th>\n      <td>20</td>\n      <td>2</td>\n      <td>0</td>\n      <td>6</td>\n      <td>14</td>\n      <td>0</td>\n      <td>1</td>\n      <td>1</td>\n      <td>1</td>\n      <td>0.66</td>\n      <td>0.6212</td>\n      <td>0.61</td>\n      <td>0.1045</td>\n    </tr>\n    <tr>\n      <th>13</th>\n      <td>27</td>\n      <td>4</td>\n      <td>1</td>\n      <td>10</td>\n      <td>4</td>\n      <td>0</td>\n      <td>6</td>\n      <td>0</td>\n      <td>2</td>\n      <td>0.50</td>\n      <td>0.4848</td>\n      <td>0.88</td>\n      <td>0.1642</td>\n    </tr>\n    <tr>\n      <th>14</th>\n      <td>13</td>\n      <td>1</td>\n      <td>0</td>\n      <td>2</td>\n      <td>8</td>\n      <td>0</td>\n      <td>0</td>\n      <td>0</td>\n      <td>2</td>\n      <td>0.22</td>\n      <td>0.2273</td>\n      <td>0.64</td>\n      <td>0.1940</td>\n    </tr>\n    <tr>\n      <th>15</th>\n      <td>5</td>\n      <td>3</td>\n      <td>1</td>\n      <td>9</td>\n      <td>7</td>\n      <td>0</td>\n      <td>3</td>\n      <td>1</td>\n      <td>2</td>\n      <td>0.70</td>\n      <td>0.6667</td>\n      <td>0.79</td>\n      <td>0.2537</td>\n    </tr>\n    <tr>\n      <th>16</th>\n      <td>7</td>\n      <td>2</td>\n      <td>0</td>\n      <td>5</td>\n      <td>22</td>\n      <td>0</td>\n      <td>6</td>\n      <td>0</td>\n      <td>1</td>\n      <td>0.54</td>\n      <td>0.5152</td>\n      <td>0.49</td>\n      <td>0.1940</td>\n    </tr>\n    <tr>\n      <th>17</th>\n      <td>23</td>\n      <td>3</td>\n      <td>0</td>\n      <td>6</td>\n      <td>20</td>\n      <td>0</td>\n      <td>4</td>\n      <td>1</td>\n      <td>1</td>\n      <td>0.70</td>\n      <td>0.6667</td>\n      <td>0.74</td>\n      <td>0.2239</td>\n    </tr>\n    <tr>\n      <th>18</th>\n      <td>22</td>\n      <td>3</td>\n      <td>0</td>\n      <td>7</td>\n      <td>0</td>\n      <td>0</td>\n      <td>5</td>\n      <td>1</td>\n      <td>1</td>\n      <td>0.82</td>\n      <td>0.8333</td>\n      <td>0.63</td>\n      <td>0.1343</td>\n    </tr>\n    <tr>\n      <th>19</th>\n      <td>16</td>\n      <td>3</td>\n      <td>0</td>\n      <td>7</td>\n      <td>14</td>\n      <td>0</td>\n      <td>6</td>\n      <td>0</td>\n      <td>1</td>\n      <td>0.74</td>\n      <td>0.6667</td>\n      <td>0.45</td>\n      <td>0.2985</td>\n    </tr>\n    <tr>\n      <th>20</th>\n      <td>6</td>\n      <td>4</td>\n      <td>0</td>\n      <td>10</td>\n      <td>7</td>\n      <td>0</td>\n      <td>4</td>\n      <td>1</td>\n      <td>1</td>\n      <td>0.42</td>\n      <td>0.4242</td>\n      <td>0.62</td>\n      <td>0.1940</td>\n    </tr>\n    <tr>\n      <th>21</th>\n      <td>18</td>\n      <td>1</td>\n      <td>1</td>\n      <td>3</td>\n      <td>14</td>\n      <td>0</td>\n      <td>0</td>\n      <td>0</td>\n      <td>2</td>\n      <td>0.50</td>\n      <td>0.4848</td>\n      <td>0.77</td>\n      <td>0.0896</td>\n    </tr>\n    <tr>\n      <th>22</th>\n      <td>22</td>\n      <td>3</td>\n      <td>0</td>\n      <td>6</td>\n      <td>17</td>\n      <td>0</td>\n      <td>3</td>\n      <td>1</td>\n      <td>2</td>\n      <td>0.80</td>\n      <td>0.7576</td>\n      <td>0.55</td>\n      <td>0.3881</td>\n    </tr>\n    <tr>\n      <th>23</th>\n      <td>21</td>\n      <td>1</td>\n      <td>1</td>\n      <td>2</td>\n      <td>10</td>\n      <td>0</td>\n      <td>2</td>\n      <td>1</td>\n      <td>1</td>\n      <td>0.24</td>\n      <td>0.2273</td>\n      <td>0.70</td>\n      <td>0.1940</td>\n    </tr>\n    <tr>\n      <th>24</th>\n      <td>28</td>\n      <td>3</td>\n      <td>0</td>\n      <td>7</td>\n      <td>2</td>\n      <td>0</td>\n      <td>4</td>\n      <td>1</td>\n      <td>1</td>\n      <td>0.72</td>\n      <td>0.6667</td>\n      <td>0.54</td>\n      <td>0.1045</td>\n    </tr>\n    <tr>\n      <th>25</th>\n      <td>16</td>\n      <td>2</td>\n      <td>0</td>\n      <td>6</td>\n      <td>7</td>\n      <td>0</td>\n      <td>4</td>\n      <td>1</td>\n      <td>3</td>\n      <td>0.56</td>\n      <td>0.5303</td>\n      <td>0.78</td>\n      <td>0.1642</td>\n    </tr>\n    <tr>\n      <th>26</th>\n      <td>21</td>\n      <td>2</td>\n      <td>1</td>\n      <td>4</td>\n      <td>4</td>\n      <td>0</td>\n      <td>6</td>\n      <td>0</td>\n      <td>1</td>\n      <td>0.50</td>\n      <td>0.4848</td>\n      <td>0.82</td>\n      <td>0.2537</td>\n    </tr>\n    <tr>\n      <th>27</th>\n      <td>18</td>\n      <td>1</td>\n      <td>1</td>\n      <td>1</td>\n      <td>19</td>\n      <td>0</td>\n      <td>3</td>\n      <td>1</td>\n      <td>1</td>\n      <td>0.22</td>\n      <td>0.1970</td>\n      <td>0.37</td>\n      <td>0.3881</td>\n    </tr>\n    <tr>\n      <th>28</th>\n      <td>18</td>\n      <td>2</td>\n      <td>0</td>\n      <td>6</td>\n      <td>7</td>\n      <td>0</td>\n      <td>6</td>\n      <td>0</td>\n      <td>1</td>\n      <td>0.64</td>\n      <td>0.5909</td>\n      <td>0.78</td>\n      <td>0.1343</td>\n    </tr>\n    <tr>\n      <th>29</th>\n      <td>29</td>\n      <td>2</td>\n      <td>1</td>\n      <td>5</td>\n      <td>22</td>\n      <td>0</td>\n      <td>2</td>\n      <td>1</td>\n      <td>2</td>\n      <td>0.62</td>\n      <td>0.5606</td>\n      <td>0.88</td>\n      <td>0.0896</td>\n    </tr>\n    <tr>\n      <th>...</th>\n      <td>...</td>\n      <td>...</td>\n      <td>...</td>\n      <td>...</td>\n      <td>...</td>\n      <td>...</td>\n      <td>...</td>\n      <td>...</td>\n      <td>...</td>\n      <td>...</td>\n      <td>...</td>\n      <td>...</td>\n      <td>...</td>\n    </tr>\n    <tr>\n      <th>17349</th>\n      <td>17</td>\n      <td>1</td>\n      <td>1</td>\n      <td>2</td>\n      <td>1</td>\n      <td>0</td>\n      <td>5</td>\n      <td>1</td>\n      <td>2</td>\n      <td>0.30</td>\n      <td>0.3333</td>\n      <td>0.93</td>\n      <td>0.0000</td>\n    </tr>\n    <tr>\n      <th>17350</th>\n      <td>2</td>\n      <td>4</td>\n      <td>1</td>\n      <td>11</td>\n      <td>17</td>\n      <td>0</td>\n      <td>5</td>\n      <td>1</td>\n      <td>1</td>\n      <td>0.38</td>\n      <td>0.3939</td>\n      <td>0.40</td>\n      <td>0.3284</td>\n    </tr>\n    <tr>\n      <th>17351</th>\n      <td>29</td>\n      <td>4</td>\n      <td>0</td>\n      <td>10</td>\n      <td>3</td>\n      <td>0</td>\n      <td>6</td>\n      <td>0</td>\n      <td>3</td>\n      <td>0.30</td>\n      <td>0.2727</td>\n      <td>0.81</td>\n      <td>0.4179</td>\n    </tr>\n    <tr>\n      <th>17352</th>\n      <td>1</td>\n      <td>4</td>\n      <td>0</td>\n      <td>10</td>\n      <td>1</td>\n      <td>0</td>\n      <td>6</td>\n      <td>0</td>\n      <td>1</td>\n      <td>0.48</td>\n      <td>0.4697</td>\n      <td>0.67</td>\n      <td>0.3284</td>\n    </tr>\n    <tr>\n      <th>17353</th>\n      <td>23</td>\n      <td>4</td>\n      <td>1</td>\n      <td>10</td>\n      <td>11</td>\n      <td>0</td>\n      <td>2</td>\n      <td>1</td>\n      <td>1</td>\n      <td>0.60</td>\n      <td>0.6212</td>\n      <td>0.53</td>\n      <td>0.0000</td>\n    </tr>\n    <tr>\n      <th>17354</th>\n      <td>12</td>\n      <td>3</td>\n      <td>0</td>\n      <td>7</td>\n      <td>11</td>\n      <td>0</td>\n      <td>2</td>\n      <td>1</td>\n      <td>1</td>\n      <td>0.82</td>\n      <td>0.7727</td>\n      <td>0.52</td>\n      <td>0.1642</td>\n    </tr>\n    <tr>\n      <th>17355</th>\n      <td>7</td>\n      <td>2</td>\n      <td>1</td>\n      <td>6</td>\n      <td>22</td>\n      <td>0</td>\n      <td>4</td>\n      <td>1</td>\n      <td>1</td>\n      <td>0.60</td>\n      <td>0.6212</td>\n      <td>0.46</td>\n      <td>0.1642</td>\n    </tr>\n    <tr>\n      <th>17356</th>\n      <td>26</td>\n      <td>1</td>\n      <td>0</td>\n      <td>1</td>\n      <td>16</td>\n      <td>0</td>\n      <td>3</td>\n      <td>1</td>\n      <td>4</td>\n      <td>0.22</td>\n      <td>0.1970</td>\n      <td>0.93</td>\n      <td>0.3284</td>\n    </tr>\n    <tr>\n      <th>17357</th>\n      <td>14</td>\n      <td>2</td>\n      <td>1</td>\n      <td>4</td>\n      <td>7</td>\n      <td>0</td>\n      <td>6</td>\n      <td>0</td>\n      <td>1</td>\n      <td>0.36</td>\n      <td>0.3636</td>\n      <td>0.71</td>\n      <td>0.1045</td>\n    </tr>\n    <tr>\n      <th>17358</th>\n      <td>12</td>\n      <td>2</td>\n      <td>0</td>\n      <td>4</td>\n      <td>3</td>\n      <td>0</td>\n      <td>2</td>\n      <td>1</td>\n      <td>2</td>\n      <td>0.58</td>\n      <td>0.5455</td>\n      <td>0.56</td>\n      <td>0.1343</td>\n    </tr>\n    <tr>\n      <th>17359</th>\n      <td>6</td>\n      <td>2</td>\n      <td>0</td>\n      <td>5</td>\n      <td>7</td>\n      <td>0</td>\n      <td>5</td>\n      <td>1</td>\n      <td>1</td>\n      <td>0.40</td>\n      <td>0.4091</td>\n      <td>0.82</td>\n      <td>0.0000</td>\n    </tr>\n    <tr>\n      <th>17360</th>\n      <td>3</td>\n      <td>2</td>\n      <td>0</td>\n      <td>6</td>\n      <td>5</td>\n      <td>0</td>\n      <td>5</td>\n      <td>1</td>\n      <td>1</td>\n      <td>0.52</td>\n      <td>0.5000</td>\n      <td>0.48</td>\n      <td>0.3582</td>\n    </tr>\n    <tr>\n      <th>17361</th>\n      <td>11</td>\n      <td>1</td>\n      <td>0</td>\n      <td>2</td>\n      <td>12</td>\n      <td>0</td>\n      <td>5</td>\n      <td>1</td>\n      <td>1</td>\n      <td>0.22</td>\n      <td>0.2273</td>\n      <td>0.47</td>\n      <td>0.1343</td>\n    </tr>\n    <tr>\n      <th>17362</th>\n      <td>1</td>\n      <td>4</td>\n      <td>0</td>\n      <td>10</td>\n      <td>7</td>\n      <td>0</td>\n      <td>6</td>\n      <td>0</td>\n      <td>3</td>\n      <td>0.42</td>\n      <td>0.4242</td>\n      <td>0.67</td>\n      <td>0.2537</td>\n    </tr>\n    <tr>\n      <th>17363</th>\n      <td>6</td>\n      <td>2</td>\n      <td>1</td>\n      <td>5</td>\n      <td>10</td>\n      <td>0</td>\n      <td>0</td>\n      <td>0</td>\n      <td>2</td>\n      <td>0.54</td>\n      <td>0.5152</td>\n      <td>0.77</td>\n      <td>0.1045</td>\n    </tr>\n    <tr>\n      <th>17364</th>\n      <td>9</td>\n      <td>4</td>\n      <td>1</td>\n      <td>11</td>\n      <td>20</td>\n      <td>0</td>\n      <td>5</td>\n      <td>1</td>\n      <td>1</td>\n      <td>0.36</td>\n      <td>0.3485</td>\n      <td>0.66</td>\n      <td>0.1343</td>\n    </tr>\n    <tr>\n      <th>17365</th>\n      <td>22</td>\n      <td>3</td>\n      <td>0</td>\n      <td>8</td>\n      <td>22</td>\n      <td>0</td>\n      <td>1</td>\n      <td>1</td>\n      <td>1</td>\n      <td>0.64</td>\n      <td>0.6212</td>\n      <td>0.38</td>\n      <td>0.2985</td>\n    </tr>\n    <tr>\n      <th>17366</th>\n      <td>31</td>\n      <td>3</td>\n      <td>1</td>\n      <td>7</td>\n      <td>14</td>\n      <td>0</td>\n      <td>2</td>\n      <td>1</td>\n      <td>1</td>\n      <td>0.80</td>\n      <td>0.7576</td>\n      <td>0.55</td>\n      <td>0.2836</td>\n    </tr>\n    <tr>\n      <th>17367</th>\n      <td>19</td>\n      <td>4</td>\n      <td>1</td>\n      <td>10</td>\n      <td>19</td>\n      <td>0</td>\n      <td>5</td>\n      <td>1</td>\n      <td>1</td>\n      <td>0.54</td>\n      <td>0.5152</td>\n      <td>0.88</td>\n      <td>0.1642</td>\n    </tr>\n    <tr>\n      <th>17368</th>\n      <td>16</td>\n      <td>3</td>\n      <td>0</td>\n      <td>8</td>\n      <td>5</td>\n      <td>0</td>\n      <td>2</td>\n      <td>1</td>\n      <td>1</td>\n      <td>0.62</td>\n      <td>0.5909</td>\n      <td>0.73</td>\n      <td>0.2836</td>\n    </tr>\n    <tr>\n      <th>17369</th>\n      <td>11</td>\n      <td>4</td>\n      <td>0</td>\n      <td>12</td>\n      <td>1</td>\n      <td>0</td>\n      <td>0</td>\n      <td>0</td>\n      <td>1</td>\n      <td>0.16</td>\n      <td>0.1515</td>\n      <td>0.59</td>\n      <td>0.2239</td>\n    </tr>\n    <tr>\n      <th>17370</th>\n      <td>29</td>\n      <td>3</td>\n      <td>1</td>\n      <td>6</td>\n      <td>10</td>\n      <td>0</td>\n      <td>5</td>\n      <td>1</td>\n      <td>1</td>\n      <td>0.90</td>\n      <td>0.8333</td>\n      <td>0.39</td>\n      <td>0.2985</td>\n    </tr>\n    <tr>\n      <th>17371</th>\n      <td>29</td>\n      <td>2</td>\n      <td>1</td>\n      <td>3</td>\n      <td>17</td>\n      <td>0</td>\n      <td>4</td>\n      <td>1</td>\n      <td>1</td>\n      <td>0.52</td>\n      <td>0.5000</td>\n      <td>0.38</td>\n      <td>0.3881</td>\n    </tr>\n    <tr>\n      <th>17372</th>\n      <td>1</td>\n      <td>1</td>\n      <td>1</td>\n      <td>2</td>\n      <td>2</td>\n      <td>0</td>\n      <td>3</td>\n      <td>1</td>\n      <td>1</td>\n      <td>0.44</td>\n      <td>0.4394</td>\n      <td>0.44</td>\n      <td>0.2836</td>\n    </tr>\n    <tr>\n      <th>17373</th>\n      <td>7</td>\n      <td>4</td>\n      <td>0</td>\n      <td>11</td>\n      <td>3</td>\n      <td>0</td>\n      <td>1</td>\n      <td>1</td>\n      <td>1</td>\n      <td>0.32</td>\n      <td>0.3485</td>\n      <td>0.93</td>\n      <td>0.0000</td>\n    </tr>\n    <tr>\n      <th>17374</th>\n      <td>19</td>\n      <td>1</td>\n      <td>1</td>\n      <td>1</td>\n      <td>23</td>\n      <td>0</td>\n      <td>4</td>\n      <td>1</td>\n      <td>1</td>\n      <td>0.26</td>\n      <td>0.2273</td>\n      <td>0.48</td>\n      <td>0.3284</td>\n    </tr>\n    <tr>\n      <th>17375</th>\n      <td>10</td>\n      <td>4</td>\n      <td>1</td>\n      <td>11</td>\n      <td>13</td>\n      <td>0</td>\n      <td>6</td>\n      <td>0</td>\n      <td>1</td>\n      <td>0.52</td>\n      <td>0.5000</td>\n      <td>0.39</td>\n      <td>0.0000</td>\n    </tr>\n    <tr>\n      <th>17376</th>\n      <td>6</td>\n      <td>4</td>\n      <td>0</td>\n      <td>12</td>\n      <td>21</td>\n      <td>0</td>\n      <td>2</td>\n      <td>1</td>\n      <td>2</td>\n      <td>0.44</td>\n      <td>0.4394</td>\n      <td>1.00</td>\n      <td>0.1940</td>\n    </tr>\n    <tr>\n      <th>17377</th>\n      <td>8</td>\n      <td>3</td>\n      <td>0</td>\n      <td>9</td>\n      <td>5</td>\n      <td>0</td>\n      <td>4</td>\n      <td>1</td>\n      <td>3</td>\n      <td>0.62</td>\n      <td>0.5455</td>\n      <td>0.94</td>\n      <td>0.0896</td>\n    </tr>\n    <tr>\n      <th>17378</th>\n      <td>20</td>\n      <td>2</td>\n      <td>0</td>\n      <td>5</td>\n      <td>16</td>\n      <td>0</td>\n      <td>5</td>\n      <td>1</td>\n      <td>2</td>\n      <td>0.60</td>\n      <td>0.6212</td>\n      <td>0.53</td>\n      <td>0.1642</td>\n    </tr>\n  </tbody>\n</table>\n<p>17379 rows × 13 columns</p>\n</div>",
      "text/plain": "       day  season  yr  mnth  hr  holiday  weekday  workingday  weathersit  \\\n0       13       4   1    10   5        0        6           0           1   \n1       14       2   0     6  14        0        2           1           2   \n2       26       3   1     8   6        0        0           0           1   \n3       14       1   1     2   1        0        2           1           2   \n4        8       3   1     9  20        0        6           0           2   \n5       23       3   1     6  14        0        6           0           1   \n6        3       3   1     9   3        1        1           0           1   \n7       21       1   0     2  14        1        1           0           2   \n8       28       3   1     8  21        0        2           1           1   \n9        9       3   1     9  23        0        0           0           1   \n10       2       3   1     8  12        0        4           1           1   \n11      18       1   1     2   3        0        6           0           1   \n12      20       2   0     6  14        0        1           1           1   \n13      27       4   1    10   4        0        6           0           2   \n14      13       1   0     2   8        0        0           0           2   \n15       5       3   1     9   7        0        3           1           2   \n16       7       2   0     5  22        0        6           0           1   \n17      23       3   0     6  20        0        4           1           1   \n18      22       3   0     7   0        0        5           1           1   \n19      16       3   0     7  14        0        6           0           1   \n20       6       4   0    10   7        0        4           1           1   \n21      18       1   1     3  14        0        0           0           2   \n22      22       3   0     6  17        0        3           1           2   \n23      21       1   1     2  10        0        2           1           1   \n24      28       3   0     7   2        0        4           1           1   \n25      16       2   0     6   7        0        4           1           3   \n26      21       2   1     4   4        0        6           0           1   \n27      18       1   1     1  19        0        3           1           1   \n28      18       2   0     6   7        0        6           0           1   \n29      29       2   1     5  22        0        2           1           2   \n...    ...     ...  ..   ...  ..      ...      ...         ...         ...   \n17349   17       1   1     2   1        0        5           1           2   \n17350    2       4   1    11  17        0        5           1           1   \n17351   29       4   0    10   3        0        6           0           3   \n17352    1       4   0    10   1        0        6           0           1   \n17353   23       4   1    10  11        0        2           1           1   \n17354   12       3   0     7  11        0        2           1           1   \n17355    7       2   1     6  22        0        4           1           1   \n17356   26       1   0     1  16        0        3           1           4   \n17357   14       2   1     4   7        0        6           0           1   \n17358   12       2   0     4   3        0        2           1           2   \n17359    6       2   0     5   7        0        5           1           1   \n17360    3       2   0     6   5        0        5           1           1   \n17361   11       1   0     2  12        0        5           1           1   \n17362    1       4   0    10   7        0        6           0           3   \n17363    6       2   1     5  10        0        0           0           2   \n17364    9       4   1    11  20        0        5           1           1   \n17365   22       3   0     8  22        0        1           1           1   \n17366   31       3   1     7  14        0        2           1           1   \n17367   19       4   1    10  19        0        5           1           1   \n17368   16       3   0     8   5        0        2           1           1   \n17369   11       4   0    12   1        0        0           0           1   \n17370   29       3   1     6  10        0        5           1           1   \n17371   29       2   1     3  17        0        4           1           1   \n17372    1       1   1     2   2        0        3           1           1   \n17373    7       4   0    11   3        0        1           1           1   \n17374   19       1   1     1  23        0        4           1           1   \n17375   10       4   1    11  13        0        6           0           1   \n17376    6       4   0    12  21        0        2           1           2   \n17377    8       3   0     9   5        0        4           1           3   \n17378   20       2   0     5  16        0        5           1           2   \n\n       temp   atemp   hum  windspeed  \n0      0.30  0.2879  0.61     0.1940  \n1      0.64  0.6212  0.47     0.1940  \n2      0.62  0.5606  0.88     0.2985  \n3      0.26  0.3030  0.56     0.0000  \n4      0.58  0.5455  0.88     0.0896  \n5      0.78  0.6818  0.33     0.2537  \n6      0.66  0.5909  0.89     0.1343  \n7      0.32  0.3030  0.76     0.2537  \n8      0.72  0.6667  0.48     0.0896  \n9      0.56  0.5303  0.52     0.2836  \n10     0.84  0.7576  0.44     0.1343  \n11     0.28  0.2879  0.65     0.1045  \n12     0.66  0.6212  0.61     0.1045  \n13     0.50  0.4848  0.88     0.1642  \n14     0.22  0.2273  0.64     0.1940  \n15     0.70  0.6667  0.79     0.2537  \n16     0.54  0.5152  0.49     0.1940  \n17     0.70  0.6667  0.74     0.2239  \n18     0.82  0.8333  0.63     0.1343  \n19     0.74  0.6667  0.45     0.2985  \n20     0.42  0.4242  0.62     0.1940  \n21     0.50  0.4848  0.77     0.0896  \n22     0.80  0.7576  0.55     0.3881  \n23     0.24  0.2273  0.70     0.1940  \n24     0.72  0.6667  0.54     0.1045  \n25     0.56  0.5303  0.78     0.1642  \n26     0.50  0.4848  0.82     0.2537  \n27     0.22  0.1970  0.37     0.3881  \n28     0.64  0.5909  0.78     0.1343  \n29     0.62  0.5606  0.88     0.0896  \n...     ...     ...   ...        ...  \n17349  0.30  0.3333  0.93     0.0000  \n17350  0.38  0.3939  0.40     0.3284  \n17351  0.30  0.2727  0.81     0.4179  \n17352  0.48  0.4697  0.67     0.3284  \n17353  0.60  0.6212  0.53     0.0000  \n17354  0.82  0.7727  0.52     0.1642  \n17355  0.60  0.6212  0.46     0.1642  \n17356  0.22  0.1970  0.93     0.3284  \n17357  0.36  0.3636  0.71     0.1045  \n17358  0.58  0.5455  0.56     0.1343  \n17359  0.40  0.4091  0.82     0.0000  \n17360  0.52  0.5000  0.48     0.3582  \n17361  0.22  0.2273  0.47     0.1343  \n17362  0.42  0.4242  0.67     0.2537  \n17363  0.54  0.5152  0.77     0.1045  \n17364  0.36  0.3485  0.66     0.1343  \n17365  0.64  0.6212  0.38     0.2985  \n17366  0.80  0.7576  0.55     0.2836  \n17367  0.54  0.5152  0.88     0.1642  \n17368  0.62  0.5909  0.73     0.2836  \n17369  0.16  0.1515  0.59     0.2239  \n17370  0.90  0.8333  0.39     0.2985  \n17371  0.52  0.5000  0.38     0.3881  \n17372  0.44  0.4394  0.44     0.2836  \n17373  0.32  0.3485  0.93     0.0000  \n17374  0.26  0.2273  0.48     0.3284  \n17375  0.52  0.5000  0.39     0.0000  \n17376  0.44  0.4394  1.00     0.1940  \n17377  0.62  0.5455  0.94     0.0896  \n17378  0.60  0.6212  0.53     0.1642  \n\n[17379 rows x 13 columns]"
     },
     "execution_count": 36,
     "metadata": {},
     "output_type": "execute_result"
    }
   ],
   "source": [
    "df = pd.read_csv(\"data/bike.csv\",sep=',')\n",
    "df = df.sample(frac=1).reset_index(drop=True)\n",
    "# Convert datetime to day\n",
    "df[\"dteday\"] = [ pd.to_datetime(x).day for x in df.dteday.values]\n",
    "# Rename datetime column\n",
    "newColumnNames = df.columns.values\n",
    "newColumnNames[1] = \"day\"\n",
    "df.columns = newColumnNames\n",
    "# Extract ground truth\n",
    "gt = df.cnt.values\n",
    "# Remove target columns and useless\n",
    "df = df.drop(['instant','casual','registered','cnt'],axis=1)\n",
    "df"
   ]
  },
  {
   "cell_type": "code",
   "execution_count": 54,
   "metadata": {},
   "outputs": [
    {
     "name": "stdout",
     "output_type": "stream",
     "text": "Train size: 14773 Test size: 2606\n"
    }
   ],
   "source": [
    "train = []\n",
    "trainGt = []\n",
    "test = []\n",
    "testGt = []\n",
    "values = df.values\n",
    "trainCount = len(df) * 0.85\n",
    "for x in range(len(df)):\n",
    "    if x < trainCount:\n",
    "        train.append(values[x])\n",
    "        trainGt.append(gt[x])\n",
    "    else:\n",
    "        test.append(values[x])\n",
    "        testGt.append(gt[x])\n",
    "assert len(train) == len(trainGt)\n",
    "assert len(test) == len(testGt)\n",
    "print(f\"Train size: {len(train)} Test size: {len(test)}\")"
   ]
  },
  {
   "cell_type": "code",
   "execution_count": 49,
   "metadata": {},
   "outputs": [
    {
     "data": {
      "text/plain": "array([13.    ,  4.    ,  1.    , 10.    ,  5.    ,  0.    ,  6.    ,\n        0.    ,  1.    ,  0.3   ,  0.2879,  0.61  ,  0.194 ])"
     },
     "execution_count": 49,
     "metadata": {},
     "output_type": "execute_result"
    }
   ],
   "source": [
    "train[0]\n",
    "# trainGt[0]"
   ]
  },
  {
   "cell_type": "code",
   "execution_count": 58,
   "metadata": {},
   "outputs": [],
   "source": [
    "def test_regressor(name,regressor):\n",
    "    regressor.fit(train, trainGt)\n",
    "    predictedValues = regressor.predict(test)\n",
    "    r2Score = regressor.score(test, testGt)\n",
    "    mse = mean_squared_error(testGt, predictedValues)\n",
    "    maxE = max_error(testGt, predictedValues)\n",
    "    return { \"name\": name, \"r2\": r2Score, \"mse\": mse, \"max_error\": maxE }"
   ]
  },
  {
   "cell_type": "code",
   "execution_count": 60,
   "metadata": {},
   "outputs": [
    {
     "data": {
      "text/plain": "{'name': 'Ridge alpha=1.0',\n 'r2': 0.38341906906916634,\n 'mse': 20390.747081994323,\n 'max_error': 582.2867301644875}"
     },
     "execution_count": 60,
     "metadata": {},
     "output_type": "execute_result"
    }
   ],
   "source": [
    "# Ridge classifier\n",
    "ridgeRegressor = Ridge(alpha=1.0)\n",
    "test_regressor(\"Ridge alpha=1.0\",ridgeRegressor)"
   ]
  },
  {
   "cell_type": "code",
   "execution_count": 61,
   "metadata": {},
   "outputs": [
    {
     "data": {
      "text/plain": "{'name': 'DecisionTreeRegressor default',\n 'r2': 0.8903072847058252,\n 'mse': 3627.6120491174215,\n 'max_error': 575.0}"
     },
     "execution_count": 61,
     "metadata": {},
     "output_type": "execute_result"
    }
   ],
   "source": [
    "# Ridge classifier\n",
    "treeRegressor = DecisionTreeRegressor()\n",
    "test_regressor(\"DecisionTreeRegressor default\",treeRegressor)"
   ]
  }
 ]
}