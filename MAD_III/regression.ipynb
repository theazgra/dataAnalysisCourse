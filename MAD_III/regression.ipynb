{
 "nbformat": 4,
 "nbformat_minor": 2,
 "metadata": {
  "language_info": {
   "name": "python",
   "codemirror_mode": {
    "name": "ipython",
    "version": 3
   },
   "version": "3.7.3"
  },
  "orig_nbformat": 2,
  "file_extension": ".py",
  "mimetype": "text/x-python",
  "name": "python",
  "npconvert_exporter": "python",
  "pygments_lexer": "ipython3",
  "version": 3
 },
 "cells": [
  {
   "cell_type": "code",
   "execution_count": 33,
   "metadata": {},
   "outputs": [],
   "source": [
    "import pandas as pd\n",
    "import matplotlib.pyplot as plt\n",
    "import seaborn as sns\n",
    "from sklearn.linear_model import Ridge\n",
    "from sklearn.linear_model import SGDRegressor\n",
    "from sklearn.svm import SVR\n",
    "from sklearn.tree import DecisionTreeRegressor\n",
    "from sklearn.neural_network import MLPRegressor\n",
    "from sklearn.metrics import mean_squared_error\n",
    "from sklearn.metrics import max_error\n",
    "from sklearn.metrics import r2_score\n",
    "import numpy as np\n",
    "from timeit import default_timer as timer"
   ]
  },
  {
   "cell_type": "code",
   "execution_count": 3,
   "metadata": {},
   "outputs": [
    {
     "data": {
      "text/html": "<div>\n<style scoped>\n    .dataframe tbody tr th:only-of-type {\n        vertical-align: middle;\n    }\n\n    .dataframe tbody tr th {\n        vertical-align: top;\n    }\n\n    .dataframe thead th {\n        text-align: right;\n    }\n</style>\n<table border=\"1\" class=\"dataframe\">\n  <thead>\n    <tr style=\"text-align: right;\">\n      <th></th>\n      <th>day</th>\n      <th>season</th>\n      <th>yr</th>\n      <th>mnth</th>\n      <th>hr</th>\n      <th>holiday</th>\n      <th>weekday</th>\n      <th>workingday</th>\n      <th>weathersit</th>\n      <th>temp</th>\n      <th>atemp</th>\n      <th>hum</th>\n      <th>windspeed</th>\n    </tr>\n  </thead>\n  <tbody>\n    <tr>\n      <th>0</th>\n      <td>14</td>\n      <td>2</td>\n      <td>0</td>\n      <td>6</td>\n      <td>3</td>\n      <td>0</td>\n      <td>2</td>\n      <td>1</td>\n      <td>1</td>\n      <td>0.58</td>\n      <td>0.5455</td>\n      <td>0.53</td>\n      <td>0.3284</td>\n    </tr>\n    <tr>\n      <th>1</th>\n      <td>7</td>\n      <td>3</td>\n      <td>1</td>\n      <td>7</td>\n      <td>18</td>\n      <td>0</td>\n      <td>6</td>\n      <td>0</td>\n      <td>1</td>\n      <td>0.94</td>\n      <td>0.8333</td>\n      <td>0.29</td>\n      <td>0.0896</td>\n    </tr>\n    <tr>\n      <th>2</th>\n      <td>1</td>\n      <td>1</td>\n      <td>0</td>\n      <td>1</td>\n      <td>14</td>\n      <td>0</td>\n      <td>6</td>\n      <td>0</td>\n      <td>2</td>\n      <td>0.46</td>\n      <td>0.4545</td>\n      <td>0.72</td>\n      <td>0.2836</td>\n    </tr>\n    <tr>\n      <th>3</th>\n      <td>28</td>\n      <td>4</td>\n      <td>0</td>\n      <td>9</td>\n      <td>15</td>\n      <td>0</td>\n      <td>3</td>\n      <td>1</td>\n      <td>1</td>\n      <td>0.70</td>\n      <td>0.6515</td>\n      <td>0.70</td>\n      <td>0.1343</td>\n    </tr>\n    <tr>\n      <th>4</th>\n      <td>11</td>\n      <td>3</td>\n      <td>1</td>\n      <td>9</td>\n      <td>4</td>\n      <td>0</td>\n      <td>2</td>\n      <td>1</td>\n      <td>1</td>\n      <td>0.48</td>\n      <td>0.4697</td>\n      <td>0.72</td>\n      <td>0.1045</td>\n    </tr>\n    <tr>\n      <th>5</th>\n      <td>1</td>\n      <td>3</td>\n      <td>0</td>\n      <td>8</td>\n      <td>13</td>\n      <td>0</td>\n      <td>1</td>\n      <td>1</td>\n      <td>1</td>\n      <td>0.90</td>\n      <td>0.8030</td>\n      <td>0.31</td>\n      <td>0.2985</td>\n    </tr>\n    <tr>\n      <th>6</th>\n      <td>9</td>\n      <td>1</td>\n      <td>1</td>\n      <td>3</td>\n      <td>5</td>\n      <td>0</td>\n      <td>5</td>\n      <td>1</td>\n      <td>3</td>\n      <td>0.40</td>\n      <td>0.4091</td>\n      <td>0.66</td>\n      <td>0.2836</td>\n    </tr>\n    <tr>\n      <th>7</th>\n      <td>14</td>\n      <td>2</td>\n      <td>1</td>\n      <td>4</td>\n      <td>18</td>\n      <td>0</td>\n      <td>6</td>\n      <td>0</td>\n      <td>2</td>\n      <td>0.62</td>\n      <td>0.6212</td>\n      <td>0.35</td>\n      <td>0.2239</td>\n    </tr>\n    <tr>\n      <th>8</th>\n      <td>21</td>\n      <td>2</td>\n      <td>0</td>\n      <td>5</td>\n      <td>7</td>\n      <td>0</td>\n      <td>6</td>\n      <td>0</td>\n      <td>1</td>\n      <td>0.54</td>\n      <td>0.5152</td>\n      <td>0.73</td>\n      <td>0.1343</td>\n    </tr>\n    <tr>\n      <th>9</th>\n      <td>25</td>\n      <td>3</td>\n      <td>0</td>\n      <td>8</td>\n      <td>5</td>\n      <td>0</td>\n      <td>4</td>\n      <td>1</td>\n      <td>1</td>\n      <td>0.66</td>\n      <td>0.6061</td>\n      <td>0.83</td>\n      <td>0.4179</td>\n    </tr>\n    <tr>\n      <th>10</th>\n      <td>20</td>\n      <td>2</td>\n      <td>0</td>\n      <td>5</td>\n      <td>5</td>\n      <td>0</td>\n      <td>5</td>\n      <td>1</td>\n      <td>1</td>\n      <td>0.44</td>\n      <td>0.4394</td>\n      <td>0.94</td>\n      <td>0.1045</td>\n    </tr>\n    <tr>\n      <th>11</th>\n      <td>10</td>\n      <td>2</td>\n      <td>1</td>\n      <td>6</td>\n      <td>4</td>\n      <td>0</td>\n      <td>0</td>\n      <td>0</td>\n      <td>1</td>\n      <td>0.62</td>\n      <td>0.5909</td>\n      <td>0.78</td>\n      <td>0.0896</td>\n    </tr>\n    <tr>\n      <th>12</th>\n      <td>14</td>\n      <td>3</td>\n      <td>0</td>\n      <td>7</td>\n      <td>21</td>\n      <td>0</td>\n      <td>4</td>\n      <td>1</td>\n      <td>1</td>\n      <td>0.66</td>\n      <td>0.6212</td>\n      <td>0.50</td>\n      <td>0.1343</td>\n    </tr>\n    <tr>\n      <th>13</th>\n      <td>28</td>\n      <td>4</td>\n      <td>0</td>\n      <td>10</td>\n      <td>18</td>\n      <td>0</td>\n      <td>5</td>\n      <td>1</td>\n      <td>2</td>\n      <td>0.36</td>\n      <td>0.3485</td>\n      <td>0.53</td>\n      <td>0.1642</td>\n    </tr>\n    <tr>\n      <th>14</th>\n      <td>22</td>\n      <td>3</td>\n      <td>0</td>\n      <td>8</td>\n      <td>4</td>\n      <td>0</td>\n      <td>1</td>\n      <td>1</td>\n      <td>1</td>\n      <td>0.68</td>\n      <td>0.6364</td>\n      <td>0.65</td>\n      <td>0.1940</td>\n    </tr>\n    <tr>\n      <th>15</th>\n      <td>29</td>\n      <td>3</td>\n      <td>0</td>\n      <td>6</td>\n      <td>15</td>\n      <td>0</td>\n      <td>3</td>\n      <td>1</td>\n      <td>1</td>\n      <td>0.82</td>\n      <td>0.7121</td>\n      <td>0.30</td>\n      <td>0.1642</td>\n    </tr>\n    <tr>\n      <th>16</th>\n      <td>10</td>\n      <td>4</td>\n      <td>1</td>\n      <td>10</td>\n      <td>12</td>\n      <td>0</td>\n      <td>3</td>\n      <td>1</td>\n      <td>1</td>\n      <td>0.54</td>\n      <td>0.5152</td>\n      <td>0.56</td>\n      <td>0.2239</td>\n    </tr>\n    <tr>\n      <th>17</th>\n      <td>29</td>\n      <td>4</td>\n      <td>0</td>\n      <td>10</td>\n      <td>21</td>\n      <td>0</td>\n      <td>6</td>\n      <td>0</td>\n      <td>1</td>\n      <td>0.24</td>\n      <td>0.2121</td>\n      <td>0.87</td>\n      <td>0.3582</td>\n    </tr>\n    <tr>\n      <th>18</th>\n      <td>18</td>\n      <td>1</td>\n      <td>0</td>\n      <td>3</td>\n      <td>17</td>\n      <td>0</td>\n      <td>5</td>\n      <td>1</td>\n      <td>1</td>\n      <td>0.70</td>\n      <td>0.6364</td>\n      <td>0.37</td>\n      <td>0.3284</td>\n    </tr>\n    <tr>\n      <th>19</th>\n      <td>30</td>\n      <td>4</td>\n      <td>1</td>\n      <td>11</td>\n      <td>4</td>\n      <td>0</td>\n      <td>5</td>\n      <td>1</td>\n      <td>1</td>\n      <td>0.22</td>\n      <td>0.2727</td>\n      <td>0.75</td>\n      <td>0.0000</td>\n    </tr>\n    <tr>\n      <th>20</th>\n      <td>3</td>\n      <td>1</td>\n      <td>0</td>\n      <td>2</td>\n      <td>7</td>\n      <td>0</td>\n      <td>4</td>\n      <td>1</td>\n      <td>1</td>\n      <td>0.14</td>\n      <td>0.1212</td>\n      <td>0.50</td>\n      <td>0.3284</td>\n    </tr>\n    <tr>\n      <th>21</th>\n      <td>22</td>\n      <td>1</td>\n      <td>0</td>\n      <td>2</td>\n      <td>17</td>\n      <td>0</td>\n      <td>2</td>\n      <td>1</td>\n      <td>1</td>\n      <td>0.22</td>\n      <td>0.2121</td>\n      <td>0.51</td>\n      <td>0.2239</td>\n    </tr>\n    <tr>\n      <th>22</th>\n      <td>18</td>\n      <td>4</td>\n      <td>1</td>\n      <td>12</td>\n      <td>23</td>\n      <td>0</td>\n      <td>2</td>\n      <td>1</td>\n      <td>1</td>\n      <td>0.34</td>\n      <td>0.3485</td>\n      <td>0.49</td>\n      <td>0.0896</td>\n    </tr>\n    <tr>\n      <th>23</th>\n      <td>3</td>\n      <td>2</td>\n      <td>0</td>\n      <td>4</td>\n      <td>13</td>\n      <td>0</td>\n      <td>0</td>\n      <td>0</td>\n      <td>1</td>\n      <td>0.44</td>\n      <td>0.4394</td>\n      <td>0.33</td>\n      <td>0.2985</td>\n    </tr>\n    <tr>\n      <th>24</th>\n      <td>16</td>\n      <td>1</td>\n      <td>0</td>\n      <td>1</td>\n      <td>8</td>\n      <td>0</td>\n      <td>0</td>\n      <td>0</td>\n      <td>1</td>\n      <td>0.22</td>\n      <td>0.2121</td>\n      <td>0.55</td>\n      <td>0.2836</td>\n    </tr>\n    <tr>\n      <th>25</th>\n      <td>20</td>\n      <td>3</td>\n      <td>0</td>\n      <td>7</td>\n      <td>5</td>\n      <td>0</td>\n      <td>3</td>\n      <td>1</td>\n      <td>1</td>\n      <td>0.68</td>\n      <td>0.6364</td>\n      <td>0.83</td>\n      <td>0.1045</td>\n    </tr>\n    <tr>\n      <th>26</th>\n      <td>29</td>\n      <td>4</td>\n      <td>0</td>\n      <td>11</td>\n      <td>19</td>\n      <td>0</td>\n      <td>2</td>\n      <td>1</td>\n      <td>2</td>\n      <td>0.40</td>\n      <td>0.4091</td>\n      <td>0.82</td>\n      <td>0.3284</td>\n    </tr>\n    <tr>\n      <th>27</th>\n      <td>6</td>\n      <td>1</td>\n      <td>0</td>\n      <td>3</td>\n      <td>12</td>\n      <td>0</td>\n      <td>0</td>\n      <td>0</td>\n      <td>2</td>\n      <td>0.46</td>\n      <td>0.4545</td>\n      <td>0.94</td>\n      <td>0.3284</td>\n    </tr>\n    <tr>\n      <th>28</th>\n      <td>24</td>\n      <td>3</td>\n      <td>1</td>\n      <td>8</td>\n      <td>13</td>\n      <td>0</td>\n      <td>5</td>\n      <td>1</td>\n      <td>2</td>\n      <td>0.80</td>\n      <td>0.7121</td>\n      <td>0.41</td>\n      <td>0.1045</td>\n    </tr>\n    <tr>\n      <th>29</th>\n      <td>1</td>\n      <td>4</td>\n      <td>1</td>\n      <td>11</td>\n      <td>17</td>\n      <td>0</td>\n      <td>4</td>\n      <td>1</td>\n      <td>3</td>\n      <td>0.40</td>\n      <td>0.4091</td>\n      <td>0.50</td>\n      <td>0.2239</td>\n    </tr>\n    <tr>\n      <th>...</th>\n      <td>...</td>\n      <td>...</td>\n      <td>...</td>\n      <td>...</td>\n      <td>...</td>\n      <td>...</td>\n      <td>...</td>\n      <td>...</td>\n      <td>...</td>\n      <td>...</td>\n      <td>...</td>\n      <td>...</td>\n      <td>...</td>\n    </tr>\n    <tr>\n      <th>17349</th>\n      <td>22</td>\n      <td>4</td>\n      <td>1</td>\n      <td>10</td>\n      <td>1</td>\n      <td>0</td>\n      <td>1</td>\n      <td>1</td>\n      <td>1</td>\n      <td>0.40</td>\n      <td>0.4091</td>\n      <td>0.71</td>\n      <td>0.0000</td>\n    </tr>\n    <tr>\n      <th>17350</th>\n      <td>20</td>\n      <td>4</td>\n      <td>0</td>\n      <td>11</td>\n      <td>0</td>\n      <td>0</td>\n      <td>0</td>\n      <td>0</td>\n      <td>1</td>\n      <td>0.38</td>\n      <td>0.3939</td>\n      <td>0.66</td>\n      <td>0.1642</td>\n    </tr>\n    <tr>\n      <th>17351</th>\n      <td>10</td>\n      <td>1</td>\n      <td>1</td>\n      <td>1</td>\n      <td>0</td>\n      <td>0</td>\n      <td>2</td>\n      <td>1</td>\n      <td>2</td>\n      <td>0.22</td>\n      <td>0.2424</td>\n      <td>0.87</td>\n      <td>0.1045</td>\n    </tr>\n    <tr>\n      <th>17352</th>\n      <td>7</td>\n      <td>2</td>\n      <td>0</td>\n      <td>6</td>\n      <td>23</td>\n      <td>0</td>\n      <td>2</td>\n      <td>1</td>\n      <td>1</td>\n      <td>0.68</td>\n      <td>0.6364</td>\n      <td>0.79</td>\n      <td>0.1045</td>\n    </tr>\n    <tr>\n      <th>17353</th>\n      <td>18</td>\n      <td>4</td>\n      <td>0</td>\n      <td>11</td>\n      <td>19</td>\n      <td>0</td>\n      <td>5</td>\n      <td>1</td>\n      <td>1</td>\n      <td>0.28</td>\n      <td>0.2727</td>\n      <td>0.41</td>\n      <td>0.1642</td>\n    </tr>\n    <tr>\n      <th>17354</th>\n      <td>31</td>\n      <td>3</td>\n      <td>1</td>\n      <td>7</td>\n      <td>22</td>\n      <td>0</td>\n      <td>2</td>\n      <td>1</td>\n      <td>1</td>\n      <td>0.68</td>\n      <td>0.6364</td>\n      <td>0.74</td>\n      <td>0.2537</td>\n    </tr>\n    <tr>\n      <th>17355</th>\n      <td>17</td>\n      <td>4</td>\n      <td>0</td>\n      <td>12</td>\n      <td>11</td>\n      <td>0</td>\n      <td>6</td>\n      <td>0</td>\n      <td>2</td>\n      <td>0.28</td>\n      <td>0.2576</td>\n      <td>0.45</td>\n      <td>0.3284</td>\n    </tr>\n    <tr>\n      <th>17356</th>\n      <td>25</td>\n      <td>2</td>\n      <td>0</td>\n      <td>4</td>\n      <td>20</td>\n      <td>0</td>\n      <td>1</td>\n      <td>1</td>\n      <td>1</td>\n      <td>0.66</td>\n      <td>0.6212</td>\n      <td>0.61</td>\n      <td>0.2836</td>\n    </tr>\n    <tr>\n      <th>17357</th>\n      <td>27</td>\n      <td>2</td>\n      <td>1</td>\n      <td>5</td>\n      <td>4</td>\n      <td>0</td>\n      <td>0</td>\n      <td>0</td>\n      <td>1</td>\n      <td>0.62</td>\n      <td>0.5758</td>\n      <td>0.83</td>\n      <td>0.1940</td>\n    </tr>\n    <tr>\n      <th>17358</th>\n      <td>30</td>\n      <td>4</td>\n      <td>1</td>\n      <td>11</td>\n      <td>8</td>\n      <td>0</td>\n      <td>5</td>\n      <td>1</td>\n      <td>2</td>\n      <td>0.22</td>\n      <td>0.2576</td>\n      <td>0.80</td>\n      <td>0.0896</td>\n    </tr>\n    <tr>\n      <th>17359</th>\n      <td>28</td>\n      <td>3</td>\n      <td>1</td>\n      <td>6</td>\n      <td>23</td>\n      <td>0</td>\n      <td>4</td>\n      <td>1</td>\n      <td>1</td>\n      <td>0.74</td>\n      <td>0.6667</td>\n      <td>0.48</td>\n      <td>0.1343</td>\n    </tr>\n    <tr>\n      <th>17360</th>\n      <td>21</td>\n      <td>2</td>\n      <td>1</td>\n      <td>3</td>\n      <td>13</td>\n      <td>0</td>\n      <td>3</td>\n      <td>1</td>\n      <td>2</td>\n      <td>0.54</td>\n      <td>0.5152</td>\n      <td>0.83</td>\n      <td>0.0000</td>\n    </tr>\n    <tr>\n      <th>17361</th>\n      <td>5</td>\n      <td>1</td>\n      <td>0</td>\n      <td>1</td>\n      <td>7</td>\n      <td>0</td>\n      <td>3</td>\n      <td>1</td>\n      <td>1</td>\n      <td>0.18</td>\n      <td>0.1818</td>\n      <td>0.43</td>\n      <td>0.1940</td>\n    </tr>\n    <tr>\n      <th>17362</th>\n      <td>9</td>\n      <td>4</td>\n      <td>0</td>\n      <td>10</td>\n      <td>3</td>\n      <td>0</td>\n      <td>0</td>\n      <td>0</td>\n      <td>1</td>\n      <td>0.44</td>\n      <td>0.4394</td>\n      <td>0.88</td>\n      <td>0.0000</td>\n    </tr>\n    <tr>\n      <th>17363</th>\n      <td>12</td>\n      <td>2</td>\n      <td>1</td>\n      <td>6</td>\n      <td>5</td>\n      <td>0</td>\n      <td>2</td>\n      <td>1</td>\n      <td>3</td>\n      <td>0.60</td>\n      <td>0.5455</td>\n      <td>0.88</td>\n      <td>0.1343</td>\n    </tr>\n    <tr>\n      <th>17364</th>\n      <td>12</td>\n      <td>4</td>\n      <td>0</td>\n      <td>11</td>\n      <td>15</td>\n      <td>0</td>\n      <td>6</td>\n      <td>0</td>\n      <td>1</td>\n      <td>0.52</td>\n      <td>0.5000</td>\n      <td>0.29</td>\n      <td>0.2836</td>\n    </tr>\n    <tr>\n      <th>17365</th>\n      <td>19</td>\n      <td>4</td>\n      <td>1</td>\n      <td>12</td>\n      <td>9</td>\n      <td>0</td>\n      <td>3</td>\n      <td>1</td>\n      <td>1</td>\n      <td>0.28</td>\n      <td>0.2879</td>\n      <td>0.75</td>\n      <td>0.1045</td>\n    </tr>\n    <tr>\n      <th>17366</th>\n      <td>17</td>\n      <td>3</td>\n      <td>1</td>\n      <td>7</td>\n      <td>6</td>\n      <td>0</td>\n      <td>2</td>\n      <td>1</td>\n      <td>1</td>\n      <td>0.72</td>\n      <td>0.6818</td>\n      <td>0.66</td>\n      <td>0.1045</td>\n    </tr>\n    <tr>\n      <th>17367</th>\n      <td>12</td>\n      <td>1</td>\n      <td>1</td>\n      <td>1</td>\n      <td>6</td>\n      <td>0</td>\n      <td>4</td>\n      <td>1</td>\n      <td>3</td>\n      <td>0.36</td>\n      <td>0.3485</td>\n      <td>0.93</td>\n      <td>0.1343</td>\n    </tr>\n    <tr>\n      <th>17368</th>\n      <td>1</td>\n      <td>4</td>\n      <td>0</td>\n      <td>10</td>\n      <td>5</td>\n      <td>0</td>\n      <td>6</td>\n      <td>0</td>\n      <td>2</td>\n      <td>0.44</td>\n      <td>0.4394</td>\n      <td>0.62</td>\n      <td>0.2985</td>\n    </tr>\n    <tr>\n      <th>17369</th>\n      <td>6</td>\n      <td>2</td>\n      <td>0</td>\n      <td>5</td>\n      <td>23</td>\n      <td>0</td>\n      <td>5</td>\n      <td>1</td>\n      <td>1</td>\n      <td>0.44</td>\n      <td>0.4394</td>\n      <td>0.82</td>\n      <td>0.1343</td>\n    </tr>\n    <tr>\n      <th>17370</th>\n      <td>10</td>\n      <td>1</td>\n      <td>1</td>\n      <td>2</td>\n      <td>0</td>\n      <td>0</td>\n      <td>5</td>\n      <td>1</td>\n      <td>2</td>\n      <td>0.28</td>\n      <td>0.3030</td>\n      <td>0.65</td>\n      <td>0.0896</td>\n    </tr>\n    <tr>\n      <th>17371</th>\n      <td>26</td>\n      <td>2</td>\n      <td>1</td>\n      <td>5</td>\n      <td>4</td>\n      <td>0</td>\n      <td>6</td>\n      <td>0</td>\n      <td>1</td>\n      <td>0.62</td>\n      <td>0.5606</td>\n      <td>0.88</td>\n      <td>0.1343</td>\n    </tr>\n    <tr>\n      <th>17372</th>\n      <td>2</td>\n      <td>2</td>\n      <td>1</td>\n      <td>4</td>\n      <td>16</td>\n      <td>0</td>\n      <td>1</td>\n      <td>1</td>\n      <td>1</td>\n      <td>0.50</td>\n      <td>0.4848</td>\n      <td>0.34</td>\n      <td>0.3284</td>\n    </tr>\n    <tr>\n      <th>17373</th>\n      <td>3</td>\n      <td>4</td>\n      <td>0</td>\n      <td>12</td>\n      <td>18</td>\n      <td>0</td>\n      <td>6</td>\n      <td>0</td>\n      <td>1</td>\n      <td>0.34</td>\n      <td>0.3333</td>\n      <td>0.53</td>\n      <td>0.1343</td>\n    </tr>\n    <tr>\n      <th>17374</th>\n      <td>17</td>\n      <td>2</td>\n      <td>0</td>\n      <td>5</td>\n      <td>13</td>\n      <td>0</td>\n      <td>2</td>\n      <td>1</td>\n      <td>2</td>\n      <td>0.56</td>\n      <td>0.5303</td>\n      <td>0.88</td>\n      <td>0.3284</td>\n    </tr>\n    <tr>\n      <th>17375</th>\n      <td>25</td>\n      <td>4</td>\n      <td>0</td>\n      <td>10</td>\n      <td>8</td>\n      <td>0</td>\n      <td>2</td>\n      <td>1</td>\n      <td>1</td>\n      <td>0.44</td>\n      <td>0.4394</td>\n      <td>0.72</td>\n      <td>0.0000</td>\n    </tr>\n    <tr>\n      <th>17376</th>\n      <td>14</td>\n      <td>3</td>\n      <td>0</td>\n      <td>8</td>\n      <td>4</td>\n      <td>0</td>\n      <td>0</td>\n      <td>0</td>\n      <td>3</td>\n      <td>0.64</td>\n      <td>0.5606</td>\n      <td>0.94</td>\n      <td>0.1940</td>\n    </tr>\n    <tr>\n      <th>17377</th>\n      <td>12</td>\n      <td>4</td>\n      <td>0</td>\n      <td>11</td>\n      <td>4</td>\n      <td>0</td>\n      <td>6</td>\n      <td>0</td>\n      <td>1</td>\n      <td>0.20</td>\n      <td>0.2121</td>\n      <td>0.80</td>\n      <td>0.1343</td>\n    </tr>\n    <tr>\n      <th>17378</th>\n      <td>2</td>\n      <td>3</td>\n      <td>0</td>\n      <td>8</td>\n      <td>18</td>\n      <td>0</td>\n      <td>2</td>\n      <td>1</td>\n      <td>2</td>\n      <td>0.86</td>\n      <td>0.7576</td>\n      <td>0.34</td>\n      <td>0.1940</td>\n    </tr>\n  </tbody>\n</table>\n<p>17379 rows × 13 columns</p>\n</div>",
      "text/plain": "       day  season  yr  mnth  hr  holiday  weekday  workingday  weathersit  \\\n0       14       2   0     6   3        0        2           1           1   \n1        7       3   1     7  18        0        6           0           1   \n2        1       1   0     1  14        0        6           0           2   \n3       28       4   0     9  15        0        3           1           1   \n4       11       3   1     9   4        0        2           1           1   \n5        1       3   0     8  13        0        1           1           1   \n6        9       1   1     3   5        0        5           1           3   \n7       14       2   1     4  18        0        6           0           2   \n8       21       2   0     5   7        0        6           0           1   \n9       25       3   0     8   5        0        4           1           1   \n10      20       2   0     5   5        0        5           1           1   \n11      10       2   1     6   4        0        0           0           1   \n12      14       3   0     7  21        0        4           1           1   \n13      28       4   0    10  18        0        5           1           2   \n14      22       3   0     8   4        0        1           1           1   \n15      29       3   0     6  15        0        3           1           1   \n16      10       4   1    10  12        0        3           1           1   \n17      29       4   0    10  21        0        6           0           1   \n18      18       1   0     3  17        0        5           1           1   \n19      30       4   1    11   4        0        5           1           1   \n20       3       1   0     2   7        0        4           1           1   \n21      22       1   0     2  17        0        2           1           1   \n22      18       4   1    12  23        0        2           1           1   \n23       3       2   0     4  13        0        0           0           1   \n24      16       1   0     1   8        0        0           0           1   \n25      20       3   0     7   5        0        3           1           1   \n26      29       4   0    11  19        0        2           1           2   \n27       6       1   0     3  12        0        0           0           2   \n28      24       3   1     8  13        0        5           1           2   \n29       1       4   1    11  17        0        4           1           3   \n...    ...     ...  ..   ...  ..      ...      ...         ...         ...   \n17349   22       4   1    10   1        0        1           1           1   \n17350   20       4   0    11   0        0        0           0           1   \n17351   10       1   1     1   0        0        2           1           2   \n17352    7       2   0     6  23        0        2           1           1   \n17353   18       4   0    11  19        0        5           1           1   \n17354   31       3   1     7  22        0        2           1           1   \n17355   17       4   0    12  11        0        6           0           2   \n17356   25       2   0     4  20        0        1           1           1   \n17357   27       2   1     5   4        0        0           0           1   \n17358   30       4   1    11   8        0        5           1           2   \n17359   28       3   1     6  23        0        4           1           1   \n17360   21       2   1     3  13        0        3           1           2   \n17361    5       1   0     1   7        0        3           1           1   \n17362    9       4   0    10   3        0        0           0           1   \n17363   12       2   1     6   5        0        2           1           3   \n17364   12       4   0    11  15        0        6           0           1   \n17365   19       4   1    12   9        0        3           1           1   \n17366   17       3   1     7   6        0        2           1           1   \n17367   12       1   1     1   6        0        4           1           3   \n17368    1       4   0    10   5        0        6           0           2   \n17369    6       2   0     5  23        0        5           1           1   \n17370   10       1   1     2   0        0        5           1           2   \n17371   26       2   1     5   4        0        6           0           1   \n17372    2       2   1     4  16        0        1           1           1   \n17373    3       4   0    12  18        0        6           0           1   \n17374   17       2   0     5  13        0        2           1           2   \n17375   25       4   0    10   8        0        2           1           1   \n17376   14       3   0     8   4        0        0           0           3   \n17377   12       4   0    11   4        0        6           0           1   \n17378    2       3   0     8  18        0        2           1           2   \n\n       temp   atemp   hum  windspeed  \n0      0.58  0.5455  0.53     0.3284  \n1      0.94  0.8333  0.29     0.0896  \n2      0.46  0.4545  0.72     0.2836  \n3      0.70  0.6515  0.70     0.1343  \n4      0.48  0.4697  0.72     0.1045  \n5      0.90  0.8030  0.31     0.2985  \n6      0.40  0.4091  0.66     0.2836  \n7      0.62  0.6212  0.35     0.2239  \n8      0.54  0.5152  0.73     0.1343  \n9      0.66  0.6061  0.83     0.4179  \n10     0.44  0.4394  0.94     0.1045  \n11     0.62  0.5909  0.78     0.0896  \n12     0.66  0.6212  0.50     0.1343  \n13     0.36  0.3485  0.53     0.1642  \n14     0.68  0.6364  0.65     0.1940  \n15     0.82  0.7121  0.30     0.1642  \n16     0.54  0.5152  0.56     0.2239  \n17     0.24  0.2121  0.87     0.3582  \n18     0.70  0.6364  0.37     0.3284  \n19     0.22  0.2727  0.75     0.0000  \n20     0.14  0.1212  0.50     0.3284  \n21     0.22  0.2121  0.51     0.2239  \n22     0.34  0.3485  0.49     0.0896  \n23     0.44  0.4394  0.33     0.2985  \n24     0.22  0.2121  0.55     0.2836  \n25     0.68  0.6364  0.83     0.1045  \n26     0.40  0.4091  0.82     0.3284  \n27     0.46  0.4545  0.94     0.3284  \n28     0.80  0.7121  0.41     0.1045  \n29     0.40  0.4091  0.50     0.2239  \n...     ...     ...   ...        ...  \n17349  0.40  0.4091  0.71     0.0000  \n17350  0.38  0.3939  0.66     0.1642  \n17351  0.22  0.2424  0.87     0.1045  \n17352  0.68  0.6364  0.79     0.1045  \n17353  0.28  0.2727  0.41     0.1642  \n17354  0.68  0.6364  0.74     0.2537  \n17355  0.28  0.2576  0.45     0.3284  \n17356  0.66  0.6212  0.61     0.2836  \n17357  0.62  0.5758  0.83     0.1940  \n17358  0.22  0.2576  0.80     0.0896  \n17359  0.74  0.6667  0.48     0.1343  \n17360  0.54  0.5152  0.83     0.0000  \n17361  0.18  0.1818  0.43     0.1940  \n17362  0.44  0.4394  0.88     0.0000  \n17363  0.60  0.5455  0.88     0.1343  \n17364  0.52  0.5000  0.29     0.2836  \n17365  0.28  0.2879  0.75     0.1045  \n17366  0.72  0.6818  0.66     0.1045  \n17367  0.36  0.3485  0.93     0.1343  \n17368  0.44  0.4394  0.62     0.2985  \n17369  0.44  0.4394  0.82     0.1343  \n17370  0.28  0.3030  0.65     0.0896  \n17371  0.62  0.5606  0.88     0.1343  \n17372  0.50  0.4848  0.34     0.3284  \n17373  0.34  0.3333  0.53     0.1343  \n17374  0.56  0.5303  0.88     0.3284  \n17375  0.44  0.4394  0.72     0.0000  \n17376  0.64  0.5606  0.94     0.1940  \n17377  0.20  0.2121  0.80     0.1343  \n17378  0.86  0.7576  0.34     0.1940  \n\n[17379 rows x 13 columns]"
     },
     "execution_count": 3,
     "metadata": {},
     "output_type": "execute_result"
    }
   ],
   "source": [
    "df = pd.read_csv(\"data/bike.csv\",sep=',')\n",
    "df = df.sample(frac=1).reset_index(drop=True)\n",
    "# Convert datetime to day\n",
    "df[\"dteday\"] = [ pd.to_datetime(x).day for x in df.dteday.values]\n",
    "# Rename datetime column\n",
    "newColumnNames = df.columns.values\n",
    "newColumnNames[1] = \"day\"\n",
    "df.columns = newColumnNames\n",
    "# Extract ground truth\n",
    "gt = df.cnt.values\n",
    "# Remove target columns and useless\n",
    "df = df.drop(['instant','casual','registered','cnt'],axis=1)\n",
    "df"
   ]
  },
  {
   "cell_type": "code",
   "execution_count": 4,
   "metadata": {},
   "outputs": [
    {
     "name": "stdout",
     "output_type": "stream",
     "text": "Train size: 14773 Test size: 2606\n"
    }
   ],
   "source": [
    "train = []\n",
    "trainGt = []\n",
    "test = []\n",
    "testGt = []\n",
    "values = df.values\n",
    "trainCount = len(df) * 0.85\n",
    "for x in range(len(df)):\n",
    "    if x < trainCount:\n",
    "        train.append(values[x])\n",
    "        trainGt.append(gt[x])\n",
    "    else:\n",
    "        test.append(values[x])\n",
    "        testGt.append(gt[x])\n",
    "assert len(train) == len(trainGt)\n",
    "assert len(test) == len(testGt)\n",
    "print(f\"Train size: {len(train)} Test size: {len(test)}\")"
   ]
  },
  {
   "cell_type": "code",
   "execution_count": 12,
   "metadata": {},
   "outputs": [],
   "source": [
    "def test_regressor(name,regressor):\n",
    "    start = timer()\n",
    "    regressor.fit(train, trainGt)\n",
    "    fitTime = timer() - start\n",
    "    predictedValues = regressor.predict(test)\n",
    "    r2Score = regressor.score(test, testGt)\n",
    "    mse = mean_squared_error(testGt, predictedValues)\n",
    "    maxE = max_error(testGt, predictedValues)\n",
    "    return { \"name\": name, \"r2\": r2Score, \"mse\": mse, \"max_error\": maxE, \"fit_time\": fitTime }"
   ]
  },
  {
   "cell_type": "code",
   "execution_count": 14,
   "metadata": {},
   "outputs": [],
   "source": [
    "results = []"
   ]
  },
  {
   "cell_type": "code",
   "execution_count": 15,
   "metadata": {},
   "outputs": [
    {
     "data": {
      "text/plain": "[{'name': 'Ridge_a05.0_nF',\n  'r2': 0.37509803328112856,\n  'mse': 20075.877384058058,\n  'max_error': 606.3815475503839,\n  'fit_time': 0.015588799999932235},\n {'name': 'Ridge_a1.0_nF',\n  'r2': 0.37513379641589395,\n  'mse': 20074.72844174925,\n  'max_error': 606.5103505401369,\n  'fit_time': 0.023003700000117533},\n {'name': 'Ridge_a1.0_nT',\n  'r2': 0.32793894292882375,\n  'mse': 21590.931209904807,\n  'max_error': 626.5583446459151,\n  'fit_time': 0.015561100000013539}]"
     },
     "execution_count": 15,
     "metadata": {},
     "output_type": "execute_result"
    }
   ],
   "source": [
    "# Ridge classifier\n",
    "rg0 = Ridge(alpha=0.5, normalize=False)\n",
    "results.append(test_regressor(\"Ridge_a05.0_nF\",rg0))\n",
    "rg1 = Ridge(alpha=1.0, normalize=False)\n",
    "results.append(test_regressor(\"Ridge_a1.0_nF\",rg1))\n",
    "rg2 = Ridge(alpha=1.0, normalize=True)\n",
    "results.append(test_regressor(\"Ridge_a1.0_nT\",rg2))\n",
    "results"
   ]
  },
  {
   "cell_type": "code",
   "execution_count": 16,
   "metadata": {},
   "outputs": [],
   "source": [
    "# DecisionTreeRegressor\n",
    "dtr_mse = DecisionTreeRegressor(criterion=\"mse\")\n",
    "results.append(test_regressor(\"DTR_mse\",dtr_mse))\n",
    "\n",
    "dtr_fried = DecisionTreeRegressor(criterion=\"friedman_mse\")\n",
    "results.append(test_regressor(\"DTR_fried\",dtr_fried))\n",
    "\n",
    "dtr_mae = DecisionTreeRegressor(criterion=\"mae\")\n",
    "results.append(test_regressor(\"DTR_mae\",dtr_mae))"
   ]
  },
  {
   "cell_type": "code",
   "execution_count": 17,
   "metadata": {},
   "outputs": [],
   "source": [
    "# SGD regression\n",
    "# https://scikit-learn.org/stable/modules/sgd.html#regression\n",
    "sgdr_def = SGDRegressor(penalty='l2',max_iter=10000)\n",
    "sgdr_elastic = SGDRegressor(penalty='elasticnet',max_iter=10000)\n",
    "results.append(test_regressor(\"SGD_l2_10000it\",sgdr_def))\n",
    "results.append(test_regressor(\"SGD_elasticnet_10000it\",sgdr_elastic))"
   ]
  },
  {
   "cell_type": "code",
   "execution_count": 19,
   "metadata": {},
   "outputs": [
    {
     "name": "stderr",
     "output_type": "stream",
     "text": "C:\\Users\\theaz\\Anaconda3\\lib\\site-packages\\sklearn\\neural_network\\multilayer_perceptron.py:566: ConvergenceWarning: Stochastic Optimizer: Maximum iterations (200) reached and the optimization hasn't converged yet.\n  % self.max_iter, ConvergenceWarning)\nC:\\Users\\theaz\\Anaconda3\\lib\\site-packages\\sklearn\\neural_network\\multilayer_perceptron.py:566: ConvergenceWarning: Stochastic Optimizer: Maximum iterations (200) reached and the optimization hasn't converged yet.\n  % self.max_iter, ConvergenceWarning)\nC:\\Users\\theaz\\Anaconda3\\lib\\site-packages\\sklearn\\neural_network\\multilayer_perceptron.py:566: ConvergenceWarning: Stochastic Optimizer: Maximum iterations (200) reached and the optimization hasn't converged yet.\n  % self.max_iter, ConvergenceWarning)\nC:\\Users\\theaz\\Anaconda3\\lib\\site-packages\\sklearn\\neural_network\\multilayer_perceptron.py:566: ConvergenceWarning: Stochastic Optimizer: Maximum iterations (500) reached and the optimization hasn't converged yet.\n  % self.max_iter, ConvergenceWarning)\n"
    },
    {
     "data": {
      "text/html": "<div>\n<style scoped>\n    .dataframe tbody tr th:only-of-type {\n        vertical-align: middle;\n    }\n\n    .dataframe tbody tr th {\n        vertical-align: top;\n    }\n\n    .dataframe thead th {\n        text-align: right;\n    }\n</style>\n<table border=\"1\" class=\"dataframe\">\n  <thead>\n    <tr style=\"text-align: right;\">\n      <th></th>\n      <th>fit_time</th>\n      <th>max_error</th>\n      <th>mse</th>\n      <th>name</th>\n      <th>r2</th>\n    </tr>\n  </thead>\n  <tbody>\n    <tr>\n      <th>0</th>\n      <td>5.765518</td>\n      <td>892.500202</td>\n      <td>47974.946405</td>\n      <td>mlpr_tanh_543</td>\n      <td>-0.493316</td>\n    </tr>\n    <tr>\n      <th>1</th>\n      <td>5.321379</td>\n      <td>487.075342</td>\n      <td>11809.788314</td>\n      <td>mlpr_relu_543</td>\n      <td>0.632397</td>\n    </tr>\n    <tr>\n      <th>2</th>\n      <td>8.591269</td>\n      <td>939.296157</td>\n      <td>61947.171786</td>\n      <td>mlpr_relu_5432</td>\n      <td>-0.928230</td>\n    </tr>\n    <tr>\n      <th>3</th>\n      <td>19.660778</td>\n      <td>471.694724</td>\n      <td>6659.950859</td>\n      <td>mlpr_relu_5432_500it</td>\n      <td>0.792696</td>\n    </tr>\n  </tbody>\n</table>\n</div>",
      "text/plain": "    fit_time   max_error           mse                  name        r2\n0   5.765518  892.500202  47974.946405         mlpr_tanh_543 -0.493316\n1   5.321379  487.075342  11809.788314         mlpr_relu_543  0.632397\n2   8.591269  939.296157  61947.171786        mlpr_relu_5432 -0.928230\n3  19.660778  471.694724   6659.950859  mlpr_relu_5432_500it  0.792696"
     },
     "execution_count": 19,
     "metadata": {},
     "output_type": "execute_result"
    }
   ],
   "source": [
    "# https://scikit-learn.org/stable/modules/generated/sklearn.neural_network.MLPRegressor.html#sklearn.neural_network.MLPRegressor\n",
    "mlpResults = []\n",
    "mlpr_tanh = MLPRegressor(hidden_layer_sizes=(5,4,3),activation='tanh')\n",
    "mlpResults.append(test_regressor(\"mlpr_tanh_543\", mlpr_tanh))\n",
    "mlpr_relu = MLPRegressor(hidden_layer_sizes=(5,4,3),activation='relu')\n",
    "mlpResults.append(test_regressor(\"mlpr_relu_543\", mlpr_relu))\n",
    "mlpr_relu2 = MLPRegressor(hidden_layer_sizes=(5,4,3,2),activation='relu')\n",
    "mlpResults.append(test_regressor(\"mlpr_relu_5432\", mlpr_relu2))\n",
    "mlpr_relu3 = MLPRegressor(hidden_layer_sizes=(5,4,3,2),activation='relu',max_iter=500)\n",
    "mlpResults.append(test_regressor(\"mlpr_relu_5432_500it\", mlpr_relu3))\n",
    "\n",
    "mlpDf=pd.DataFrame(mlpResults)\n",
    "mlpDf"
   ]
  },
  {
   "cell_type": "code",
   "execution_count": 21,
   "metadata": {},
   "outputs": [
    {
     "data": {
      "text/plain": "[{'name': 'Ridge_a05.0_nF',\n  'r2': 0.37509803328112856,\n  'mse': 20075.877384058058,\n  'max_error': 606.3815475503839,\n  'fit_time': 0.015588799999932235},\n {'name': 'Ridge_a1.0_nF',\n  'r2': 0.37513379641589395,\n  'mse': 20074.72844174925,\n  'max_error': 606.5103505401369,\n  'fit_time': 0.023003700000117533},\n {'name': 'Ridge_a1.0_nT',\n  'r2': 0.32793894292882375,\n  'mse': 21590.931209904807,\n  'max_error': 626.5583446459151,\n  'fit_time': 0.015561100000013539},\n {'name': 'DTR_mse',\n  'r2': 0.8959084831904104,\n  'mse': 3344.0901765157328,\n  'max_error': 584.0,\n  'fit_time': 0.10497069999996711},\n {'name': 'DTR_fried',\n  'r2': 0.8960156121703402,\n  'mse': 3340.6485034535685,\n  'max_error': 584.0,\n  'fit_time': 0.08722580000016933},\n {'name': 'DTR_mae',\n  'r2': 0.8881723948490133,\n  'mse': 3592.6231772831925,\n  'max_error': 584.0,\n  'fit_time': 5.771211900000026},\n {'name': 'SGD_l2_10000it',\n  'r2': -0.21115585870078935,\n  'mse': 38910.12959989505,\n  'max_error': 2633.617536673071,\n  'fit_time': 2.8614090000000942},\n {'name': 'SGD_elasticnet_10000it',\n  'r2': -0.19217618758186017,\n  'mse': 38300.38027845502,\n  'max_error': 2513.197457192622,\n  'fit_time': 0.8966441999998551},\n {'name': 'mlpr_tanh_543',\n  'r2': -0.4933164707295392,\n  'mse': 47974.94640538982,\n  'max_error': 892.5002024455489,\n  'fit_time': 5.76551789999985},\n {'name': 'mlpr_relu_543',\n  'r2': 0.6323966418736765,\n  'mse': 11809.78831361579,\n  'max_error': 487.0753423395336,\n  'fit_time': 5.32137879999982},\n {'name': 'mlpr_relu_5432',\n  'r2': -0.9282300215876828,\n  'mse': 61947.17178585718,\n  'max_error': 939.2961570442995,\n  'fit_time': 8.59126890000016},\n {'name': 'mlpr_relu_5432_500it',\n  'r2': 0.7926956660388624,\n  'mse': 6659.95085859591,\n  'max_error': 471.69472427539347,\n  'fit_time': 19.66077809999979}]"
     },
     "execution_count": 21,
     "metadata": {},
     "output_type": "execute_result"
    }
   ],
   "source": [
    "# results += mlpResults\n",
    "results"
   ]
  },
  {
   "cell_type": "code",
   "execution_count": 28,
   "metadata": {},
   "outputs": [
    {
     "name": "stderr",
     "output_type": "stream",
     "text": "C:\\Users\\theaz\\Anaconda3\\lib\\site-packages\\sklearn\\svm\\base.py:193: FutureWarning: The default value of gamma will change from 'auto' to 'scale' in version 0.22 to account better for unscaled features. Set gamma explicitly to 'auto' or 'scale' to avoid this warning.\n  \"avoid this warning.\", FutureWarning)\nC:\\Users\\theaz\\Anaconda3\\lib\\site-packages\\sklearn\\svm\\base.py:241: ConvergenceWarning: Solver terminated early (max_iter=10000).  Consider pre-processing your data with StandardScaler or MinMaxScaler.\n  % self.max_iter, ConvergenceWarning)\nC:\\Users\\theaz\\Anaconda3\\lib\\site-packages\\sklearn\\svm\\base.py:193: FutureWarning: The default value of gamma will change from 'auto' to 'scale' in version 0.22 to account better for unscaled features. Set gamma explicitly to 'auto' or 'scale' to avoid this warning.\n  \"avoid this warning.\", FutureWarning)\nC:\\Users\\theaz\\Anaconda3\\lib\\site-packages\\sklearn\\svm\\base.py:241: ConvergenceWarning: Solver terminated early (max_iter=20000).  Consider pre-processing your data with StandardScaler or MinMaxScaler.\n  % self.max_iter, ConvergenceWarning)\nC:\\Users\\theaz\\Anaconda3\\lib\\site-packages\\sklearn\\svm\\base.py:193: FutureWarning: The default value of gamma will change from 'auto' to 'scale' in version 0.22 to account better for unscaled features. Set gamma explicitly to 'auto' or 'scale' to avoid this warning.\n  \"avoid this warning.\", FutureWarning)\nC:\\Users\\theaz\\Anaconda3\\lib\\site-packages\\sklearn\\svm\\base.py:241: ConvergenceWarning: Solver terminated early (max_iter=20000).  Consider pre-processing your data with StandardScaler or MinMaxScaler.\n  % self.max_iter, ConvergenceWarning)\nC:\\Users\\theaz\\Anaconda3\\lib\\site-packages\\sklearn\\svm\\base.py:193: FutureWarning: The default value of gamma will change from 'auto' to 'scale' in version 0.22 to account better for unscaled features. Set gamma explicitly to 'auto' or 'scale' to avoid this warning.\n  \"avoid this warning.\", FutureWarning)\nC:\\Users\\theaz\\Anaconda3\\lib\\site-packages\\sklearn\\svm\\base.py:241: ConvergenceWarning: Solver terminated early (max_iter=20000).  Consider pre-processing your data with StandardScaler or MinMaxScaler.\n  % self.max_iter, ConvergenceWarning)\n"
    }
   ],
   "source": [
    "# https://scikit-learn.org/stable/modules/svm.html#regression\n",
    "svmResults = []\n",
    "svm0 = SVR(kernel='rbf', max_iter=10000,C=10000)\n",
    "svmResults.append(test_regressor(\"SVM_rbf_10000it_10000C\", svm0))\n",
    "\n",
    "svm4 = SVR(kernel='rbf', max_iter=20000,C=1000)\n",
    "svmResults.append(test_regressor(\"SVM_rbf_20000it_1000C\", svm4))\n",
    "\n",
    "svm1 = SVR(kernel='rbf', max_iter=20000,C=10000)\n",
    "svmResults.append(test_regressor(\"SVM_rbf_20000it_10000C\", svm1))\n",
    "\n",
    "svm2 = SVR(kernel='rbf', max_iter=20000,C=100000)\n",
    "svmResults.append(test_regressor(\"SVM_rbf_20000it_100000C\", svm2))"
   ]
  },
  {
   "cell_type": "code",
   "execution_count": 30,
   "metadata": {},
   "outputs": [],
   "source": [
    "results += svmResults"
   ]
  },
  {
   "cell_type": "code",
   "execution_count": 32,
   "metadata": {},
   "outputs": [],
   "source": [
    "# results = results[:len(results)-4]\n",
    "resultsDf = pd.DataFrame(results) # results\n",
    "resultsDf = resultsDf.set_index('name')\n",
    "resultsDf.to_csv(\"regression.csv\")"
   ]
  }
 ]
}