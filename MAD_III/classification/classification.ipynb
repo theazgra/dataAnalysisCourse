{
 "nbformat": 4,
 "nbformat_minor": 2,
 "metadata": {
  "language_info": {
   "name": "python",
   "codemirror_mode": {
    "name": "ipython",
    "version": 3
   },
   "version": "3.7.3"
  },
  "orig_nbformat": 2,
  "file_extension": ".py",
  "mimetype": "text/x-python",
  "name": "python",
  "npconvert_exporter": "python",
  "pygments_lexer": "ipython3",
  "version": 3
 },
 "cells": [
  {
   "cell_type": "code",
   "execution_count": 1,
   "metadata": {},
   "outputs": [],
   "source": [
    "from sklearn import svm\n",
    "from timeit import default_timer as timer\n",
    "from sklearn.decomposition import PCA\n",
    "from sklearn.tree import DecisionTreeClassifier\n",
    "from sklearn.metrics import f1_score\n",
    "from sklearn.model_selection import KFold\n",
    "from sklearn.neural_network import MLPClassifier\n",
    "from sklearn.preprocessing import MinMaxScaler\n",
    "from sklearn.model_selection import cross_val_score\n",
    "import sklearn.feature_selection\n",
    "import pandas as pd\n",
    "import numpy as np\n",
    "import matplotlib.pyplot as plt"
   ]
  },
  {
   "cell_type": "code",
   "execution_count": 2,
   "metadata": {},
   "outputs": [
    {
     "data": {
      "text/html": "<div>\n<style scoped>\n    .dataframe tbody tr th:only-of-type {\n        vertical-align: middle;\n    }\n\n    .dataframe tbody tr th {\n        vertical-align: top;\n    }\n\n    .dataframe thead th {\n        text-align: right;\n    }\n</style>\n<table border=\"1\" class=\"dataframe\">\n  <thead>\n    <tr style=\"text-align: right;\">\n      <th></th>\n      <th>dur</th>\n      <th>proto</th>\n      <th>service</th>\n      <th>state</th>\n      <th>spkts</th>\n      <th>dpkts</th>\n      <th>sbytes</th>\n      <th>dbytes</th>\n      <th>rate</th>\n      <th>sttl</th>\n      <th>...</th>\n      <th>ct_dst_sport_ltm</th>\n      <th>ct_dst_src_ltm</th>\n      <th>is_ftp_login</th>\n      <th>ct_ftp_cmd</th>\n      <th>ct_flw_http_mthd</th>\n      <th>ct_src_ltm</th>\n      <th>ct_srv_dst</th>\n      <th>is_sm_ips_ports</th>\n      <th>attack_cat</th>\n      <th>label</th>\n    </tr>\n    <tr>\n      <th>id</th>\n      <th></th>\n      <th></th>\n      <th></th>\n      <th></th>\n      <th></th>\n      <th></th>\n      <th></th>\n      <th></th>\n      <th></th>\n      <th></th>\n      <th></th>\n      <th></th>\n      <th></th>\n      <th></th>\n      <th></th>\n      <th></th>\n      <th></th>\n      <th></th>\n      <th></th>\n      <th></th>\n      <th></th>\n    </tr>\n  </thead>\n  <tbody>\n    <tr>\n      <th>1</th>\n      <td>0.121478</td>\n      <td>tcp</td>\n      <td>-</td>\n      <td>FIN</td>\n      <td>6</td>\n      <td>4</td>\n      <td>258</td>\n      <td>172</td>\n      <td>74.087490</td>\n      <td>252</td>\n      <td>...</td>\n      <td>1</td>\n      <td>1</td>\n      <td>0</td>\n      <td>0</td>\n      <td>0</td>\n      <td>1</td>\n      <td>1</td>\n      <td>0</td>\n      <td>Normal</td>\n      <td>0</td>\n    </tr>\n    <tr>\n      <th>2</th>\n      <td>0.649902</td>\n      <td>tcp</td>\n      <td>-</td>\n      <td>FIN</td>\n      <td>14</td>\n      <td>38</td>\n      <td>734</td>\n      <td>42014</td>\n      <td>78.473372</td>\n      <td>62</td>\n      <td>...</td>\n      <td>1</td>\n      <td>2</td>\n      <td>0</td>\n      <td>0</td>\n      <td>0</td>\n      <td>1</td>\n      <td>6</td>\n      <td>0</td>\n      <td>Normal</td>\n      <td>0</td>\n    </tr>\n    <tr>\n      <th>3</th>\n      <td>1.623129</td>\n      <td>tcp</td>\n      <td>-</td>\n      <td>FIN</td>\n      <td>8</td>\n      <td>16</td>\n      <td>364</td>\n      <td>13186</td>\n      <td>14.170161</td>\n      <td>62</td>\n      <td>...</td>\n      <td>1</td>\n      <td>3</td>\n      <td>0</td>\n      <td>0</td>\n      <td>0</td>\n      <td>2</td>\n      <td>6</td>\n      <td>0</td>\n      <td>Normal</td>\n      <td>0</td>\n    </tr>\n    <tr>\n      <th>4</th>\n      <td>1.681642</td>\n      <td>tcp</td>\n      <td>ftp</td>\n      <td>FIN</td>\n      <td>12</td>\n      <td>12</td>\n      <td>628</td>\n      <td>770</td>\n      <td>13.677108</td>\n      <td>62</td>\n      <td>...</td>\n      <td>1</td>\n      <td>3</td>\n      <td>1</td>\n      <td>1</td>\n      <td>0</td>\n      <td>2</td>\n      <td>1</td>\n      <td>0</td>\n      <td>Normal</td>\n      <td>0</td>\n    </tr>\n    <tr>\n      <th>5</th>\n      <td>0.449454</td>\n      <td>tcp</td>\n      <td>-</td>\n      <td>FIN</td>\n      <td>10</td>\n      <td>6</td>\n      <td>534</td>\n      <td>268</td>\n      <td>33.373826</td>\n      <td>254</td>\n      <td>...</td>\n      <td>1</td>\n      <td>40</td>\n      <td>0</td>\n      <td>0</td>\n      <td>0</td>\n      <td>2</td>\n      <td>39</td>\n      <td>0</td>\n      <td>Normal</td>\n      <td>0</td>\n    </tr>\n    <tr>\n      <th>6</th>\n      <td>0.380537</td>\n      <td>tcp</td>\n      <td>-</td>\n      <td>FIN</td>\n      <td>10</td>\n      <td>6</td>\n      <td>534</td>\n      <td>268</td>\n      <td>39.417980</td>\n      <td>254</td>\n      <td>...</td>\n      <td>1</td>\n      <td>40</td>\n      <td>0</td>\n      <td>0</td>\n      <td>0</td>\n      <td>2</td>\n      <td>39</td>\n      <td>0</td>\n      <td>Normal</td>\n      <td>0</td>\n    </tr>\n    <tr>\n      <th>7</th>\n      <td>0.637109</td>\n      <td>tcp</td>\n      <td>-</td>\n      <td>FIN</td>\n      <td>10</td>\n      <td>8</td>\n      <td>534</td>\n      <td>354</td>\n      <td>26.683033</td>\n      <td>254</td>\n      <td>...</td>\n      <td>1</td>\n      <td>40</td>\n      <td>0</td>\n      <td>0</td>\n      <td>0</td>\n      <td>1</td>\n      <td>39</td>\n      <td>0</td>\n      <td>Normal</td>\n      <td>0</td>\n    </tr>\n    <tr>\n      <th>8</th>\n      <td>0.521584</td>\n      <td>tcp</td>\n      <td>-</td>\n      <td>FIN</td>\n      <td>10</td>\n      <td>8</td>\n      <td>534</td>\n      <td>354</td>\n      <td>32.593026</td>\n      <td>254</td>\n      <td>...</td>\n      <td>1</td>\n      <td>40</td>\n      <td>0</td>\n      <td>0</td>\n      <td>0</td>\n      <td>3</td>\n      <td>39</td>\n      <td>0</td>\n      <td>Normal</td>\n      <td>0</td>\n    </tr>\n    <tr>\n      <th>9</th>\n      <td>0.542905</td>\n      <td>tcp</td>\n      <td>-</td>\n      <td>FIN</td>\n      <td>10</td>\n      <td>8</td>\n      <td>534</td>\n      <td>354</td>\n      <td>31.313031</td>\n      <td>254</td>\n      <td>...</td>\n      <td>1</td>\n      <td>40</td>\n      <td>0</td>\n      <td>0</td>\n      <td>0</td>\n      <td>3</td>\n      <td>39</td>\n      <td>0</td>\n      <td>Normal</td>\n      <td>0</td>\n    </tr>\n    <tr>\n      <th>10</th>\n      <td>0.258687</td>\n      <td>tcp</td>\n      <td>-</td>\n      <td>FIN</td>\n      <td>10</td>\n      <td>6</td>\n      <td>534</td>\n      <td>268</td>\n      <td>57.985135</td>\n      <td>254</td>\n      <td>...</td>\n      <td>1</td>\n      <td>40</td>\n      <td>0</td>\n      <td>0</td>\n      <td>0</td>\n      <td>3</td>\n      <td>39</td>\n      <td>0</td>\n      <td>Normal</td>\n      <td>0</td>\n    </tr>\n    <tr>\n      <th>11</th>\n      <td>0.304853</td>\n      <td>tcp</td>\n      <td>-</td>\n      <td>FIN</td>\n      <td>12</td>\n      <td>6</td>\n      <td>4142</td>\n      <td>268</td>\n      <td>55.764583</td>\n      <td>254</td>\n      <td>...</td>\n      <td>1</td>\n      <td>3</td>\n      <td>0</td>\n      <td>0</td>\n      <td>0</td>\n      <td>1</td>\n      <td>6</td>\n      <td>0</td>\n      <td>Normal</td>\n      <td>0</td>\n    </tr>\n    <tr>\n      <th>12</th>\n      <td>2.093085</td>\n      <td>tcp</td>\n      <td>smtp</td>\n      <td>FIN</td>\n      <td>62</td>\n      <td>28</td>\n      <td>56329</td>\n      <td>2212</td>\n      <td>42.520967</td>\n      <td>62</td>\n      <td>...</td>\n      <td>1</td>\n      <td>2</td>\n      <td>0</td>\n      <td>0</td>\n      <td>0</td>\n      <td>1</td>\n      <td>1</td>\n      <td>0</td>\n      <td>Normal</td>\n      <td>0</td>\n    </tr>\n    <tr>\n      <th>13</th>\n      <td>0.416952</td>\n      <td>tcp</td>\n      <td>-</td>\n      <td>FIN</td>\n      <td>10</td>\n      <td>6</td>\n      <td>534</td>\n      <td>268</td>\n      <td>35.975363</td>\n      <td>254</td>\n      <td>...</td>\n      <td>1</td>\n      <td>40</td>\n      <td>0</td>\n      <td>0</td>\n      <td>0</td>\n      <td>1</td>\n      <td>39</td>\n      <td>0</td>\n      <td>Normal</td>\n      <td>0</td>\n    </tr>\n    <tr>\n      <th>14</th>\n      <td>0.996221</td>\n      <td>tcp</td>\n      <td>-</td>\n      <td>FIN</td>\n      <td>10</td>\n      <td>8</td>\n      <td>564</td>\n      <td>354</td>\n      <td>17.064487</td>\n      <td>254</td>\n      <td>...</td>\n      <td>1</td>\n      <td>3</td>\n      <td>0</td>\n      <td>0</td>\n      <td>0</td>\n      <td>2</td>\n      <td>3</td>\n      <td>0</td>\n      <td>Normal</td>\n      <td>0</td>\n    </tr>\n    <tr>\n      <th>15</th>\n      <td>0.576755</td>\n      <td>tcp</td>\n      <td>-</td>\n      <td>FIN</td>\n      <td>10</td>\n      <td>8</td>\n      <td>534</td>\n      <td>354</td>\n      <td>29.475254</td>\n      <td>254</td>\n      <td>...</td>\n      <td>1</td>\n      <td>40</td>\n      <td>0</td>\n      <td>0</td>\n      <td>0</td>\n      <td>1</td>\n      <td>39</td>\n      <td>0</td>\n      <td>Normal</td>\n      <td>0</td>\n    </tr>\n    <tr>\n      <th>16</th>\n      <td>0.000002</td>\n      <td>udp</td>\n      <td>snmp</td>\n      <td>INT</td>\n      <td>2</td>\n      <td>0</td>\n      <td>138</td>\n      <td>0</td>\n      <td>500000.001300</td>\n      <td>254</td>\n      <td>...</td>\n      <td>1</td>\n      <td>4</td>\n      <td>0</td>\n      <td>0</td>\n      <td>0</td>\n      <td>2</td>\n      <td>1</td>\n      <td>0</td>\n      <td>Normal</td>\n      <td>0</td>\n    </tr>\n    <tr>\n      <th>17</th>\n      <td>0.728252</td>\n      <td>tcp</td>\n      <td>-</td>\n      <td>FIN</td>\n      <td>10</td>\n      <td>6</td>\n      <td>534</td>\n      <td>268</td>\n      <td>20.597266</td>\n      <td>254</td>\n      <td>...</td>\n      <td>1</td>\n      <td>40</td>\n      <td>0</td>\n      <td>0</td>\n      <td>0</td>\n      <td>2</td>\n      <td>39</td>\n      <td>0</td>\n      <td>Normal</td>\n      <td>0</td>\n    </tr>\n    <tr>\n      <th>18</th>\n      <td>0.393556</td>\n      <td>tcp</td>\n      <td>http</td>\n      <td>FIN</td>\n      <td>10</td>\n      <td>8</td>\n      <td>860</td>\n      <td>1096</td>\n      <td>43.195886</td>\n      <td>62</td>\n      <td>...</td>\n      <td>1</td>\n      <td>2</td>\n      <td>0</td>\n      <td>0</td>\n      <td>1</td>\n      <td>1</td>\n      <td>3</td>\n      <td>0</td>\n      <td>Normal</td>\n      <td>0</td>\n    </tr>\n    <tr>\n      <th>19</th>\n      <td>0.387852</td>\n      <td>tcp</td>\n      <td>-</td>\n      <td>FIN</td>\n      <td>10</td>\n      <td>6</td>\n      <td>534</td>\n      <td>268</td>\n      <td>38.674545</td>\n      <td>254</td>\n      <td>...</td>\n      <td>1</td>\n      <td>40</td>\n      <td>0</td>\n      <td>0</td>\n      <td>0</td>\n      <td>2</td>\n      <td>39</td>\n      <td>0</td>\n      <td>Normal</td>\n      <td>0</td>\n    </tr>\n    <tr>\n      <th>20</th>\n      <td>0.537840</td>\n      <td>tcp</td>\n      <td>-</td>\n      <td>FIN</td>\n      <td>10</td>\n      <td>8</td>\n      <td>534</td>\n      <td>354</td>\n      <td>31.607913</td>\n      <td>254</td>\n      <td>...</td>\n      <td>1</td>\n      <td>40</td>\n      <td>0</td>\n      <td>0</td>\n      <td>0</td>\n      <td>2</td>\n      <td>39</td>\n      <td>0</td>\n      <td>Normal</td>\n      <td>0</td>\n    </tr>\n    <tr>\n      <th>21</th>\n      <td>0.233720</td>\n      <td>tcp</td>\n      <td>-</td>\n      <td>FIN</td>\n      <td>10</td>\n      <td>6</td>\n      <td>534</td>\n      <td>268</td>\n      <td>64.179359</td>\n      <td>254</td>\n      <td>...</td>\n      <td>1</td>\n      <td>40</td>\n      <td>0</td>\n      <td>0</td>\n      <td>0</td>\n      <td>2</td>\n      <td>39</td>\n      <td>0</td>\n      <td>Normal</td>\n      <td>0</td>\n    </tr>\n    <tr>\n      <th>22</th>\n      <td>0.338017</td>\n      <td>tcp</td>\n      <td>http</td>\n      <td>FIN</td>\n      <td>10</td>\n      <td>6</td>\n      <td>998</td>\n      <td>268</td>\n      <td>44.376468</td>\n      <td>254</td>\n      <td>...</td>\n      <td>1</td>\n      <td>1</td>\n      <td>0</td>\n      <td>0</td>\n      <td>1</td>\n      <td>2</td>\n      <td>3</td>\n      <td>0</td>\n      <td>Normal</td>\n      <td>0</td>\n    </tr>\n    <tr>\n      <th>23</th>\n      <td>0.964656</td>\n      <td>tcp</td>\n      <td>ftp</td>\n      <td>CON</td>\n      <td>14</td>\n      <td>12</td>\n      <td>690</td>\n      <td>950</td>\n      <td>25.915974</td>\n      <td>62</td>\n      <td>...</td>\n      <td>1</td>\n      <td>2</td>\n      <td>1</td>\n      <td>1</td>\n      <td>0</td>\n      <td>2</td>\n      <td>1</td>\n      <td>0</td>\n      <td>Normal</td>\n      <td>0</td>\n    </tr>\n    <tr>\n      <th>24</th>\n      <td>0.449703</td>\n      <td>tcp</td>\n      <td>-</td>\n      <td>FIN</td>\n      <td>10</td>\n      <td>6</td>\n      <td>738</td>\n      <td>268</td>\n      <td>33.355347</td>\n      <td>254</td>\n      <td>...</td>\n      <td>1</td>\n      <td>3</td>\n      <td>0</td>\n      <td>0</td>\n      <td>0</td>\n      <td>1</td>\n      <td>6</td>\n      <td>0</td>\n      <td>Normal</td>\n      <td>0</td>\n    </tr>\n    <tr>\n      <th>25</th>\n      <td>0.921025</td>\n      <td>tcp</td>\n      <td>-</td>\n      <td>FIN</td>\n      <td>10</td>\n      <td>6</td>\n      <td>534</td>\n      <td>268</td>\n      <td>16.286203</td>\n      <td>254</td>\n      <td>...</td>\n      <td>1</td>\n      <td>40</td>\n      <td>0</td>\n      <td>0</td>\n      <td>0</td>\n      <td>2</td>\n      <td>39</td>\n      <td>0</td>\n      <td>Normal</td>\n      <td>0</td>\n    </tr>\n    <tr>\n      <th>26</th>\n      <td>0.600982</td>\n      <td>tcp</td>\n      <td>-</td>\n      <td>FIN</td>\n      <td>10</td>\n      <td>8</td>\n      <td>534</td>\n      <td>354</td>\n      <td>28.287036</td>\n      <td>254</td>\n      <td>...</td>\n      <td>1</td>\n      <td>40</td>\n      <td>0</td>\n      <td>0</td>\n      <td>0</td>\n      <td>2</td>\n      <td>39</td>\n      <td>0</td>\n      <td>Normal</td>\n      <td>0</td>\n    </tr>\n    <tr>\n      <th>27</th>\n      <td>0.568945</td>\n      <td>tcp</td>\n      <td>-</td>\n      <td>FIN</td>\n      <td>10</td>\n      <td>6</td>\n      <td>534</td>\n      <td>268</td>\n      <td>26.364588</td>\n      <td>254</td>\n      <td>...</td>\n      <td>1</td>\n      <td>40</td>\n      <td>0</td>\n      <td>0</td>\n      <td>0</td>\n      <td>1</td>\n      <td>39</td>\n      <td>0</td>\n      <td>Normal</td>\n      <td>0</td>\n    </tr>\n    <tr>\n      <th>28</th>\n      <td>0.497636</td>\n      <td>tcp</td>\n      <td>-</td>\n      <td>FIN</td>\n      <td>10</td>\n      <td>6</td>\n      <td>2074</td>\n      <td>268</td>\n      <td>30.142514</td>\n      <td>254</td>\n      <td>...</td>\n      <td>1</td>\n      <td>4</td>\n      <td>0</td>\n      <td>0</td>\n      <td>0</td>\n      <td>1</td>\n      <td>2</td>\n      <td>0</td>\n      <td>Normal</td>\n      <td>0</td>\n    </tr>\n    <tr>\n      <th>29</th>\n      <td>0.546425</td>\n      <td>tcp</td>\n      <td>http</td>\n      <td>FIN</td>\n      <td>10</td>\n      <td>8</td>\n      <td>1168</td>\n      <td>1040</td>\n      <td>31.111315</td>\n      <td>254</td>\n      <td>...</td>\n      <td>1</td>\n      <td>2</td>\n      <td>0</td>\n      <td>0</td>\n      <td>1</td>\n      <td>1</td>\n      <td>8</td>\n      <td>0</td>\n      <td>Normal</td>\n      <td>0</td>\n    </tr>\n    <tr>\n      <th>30</th>\n      <td>0.000012</td>\n      <td>udp</td>\n      <td>-</td>\n      <td>INT</td>\n      <td>2</td>\n      <td>0</td>\n      <td>1414</td>\n      <td>0</td>\n      <td>83333.330390</td>\n      <td>254</td>\n      <td>...</td>\n      <td>1</td>\n      <td>3</td>\n      <td>0</td>\n      <td>0</td>\n      <td>0</td>\n      <td>2</td>\n      <td>3</td>\n      <td>0</td>\n      <td>Normal</td>\n      <td>0</td>\n    </tr>\n    <tr>\n      <th>...</th>\n      <td>...</td>\n      <td>...</td>\n      <td>...</td>\n      <td>...</td>\n      <td>...</td>\n      <td>...</td>\n      <td>...</td>\n      <td>...</td>\n      <td>...</td>\n      <td>...</td>\n      <td>...</td>\n      <td>...</td>\n      <td>...</td>\n      <td>...</td>\n      <td>...</td>\n      <td>...</td>\n      <td>...</td>\n      <td>...</td>\n      <td>...</td>\n      <td>...</td>\n      <td>...</td>\n    </tr>\n    <tr>\n      <th>175312</th>\n      <td>0.000005</td>\n      <td>udp</td>\n      <td>dns</td>\n      <td>INT</td>\n      <td>2</td>\n      <td>0</td>\n      <td>114</td>\n      <td>0</td>\n      <td>200000.005100</td>\n      <td>254</td>\n      <td>...</td>\n      <td>15</td>\n      <td>37</td>\n      <td>0</td>\n      <td>0</td>\n      <td>0</td>\n      <td>32</td>\n      <td>37</td>\n      <td>0</td>\n      <td>Generic</td>\n      <td>1</td>\n    </tr>\n    <tr>\n      <th>175313</th>\n      <td>0.000005</td>\n      <td>udp</td>\n      <td>dns</td>\n      <td>INT</td>\n      <td>2</td>\n      <td>0</td>\n      <td>114</td>\n      <td>0</td>\n      <td>200000.005100</td>\n      <td>254</td>\n      <td>...</td>\n      <td>4</td>\n      <td>10</td>\n      <td>0</td>\n      <td>0</td>\n      <td>0</td>\n      <td>8</td>\n      <td>10</td>\n      <td>0</td>\n      <td>Generic</td>\n      <td>1</td>\n    </tr>\n    <tr>\n      <th>175314</th>\n      <td>0.000005</td>\n      <td>udp</td>\n      <td>dns</td>\n      <td>INT</td>\n      <td>2</td>\n      <td>0</td>\n      <td>114</td>\n      <td>0</td>\n      <td>200000.005100</td>\n      <td>254</td>\n      <td>...</td>\n      <td>13</td>\n      <td>34</td>\n      <td>0</td>\n      <td>0</td>\n      <td>0</td>\n      <td>25</td>\n      <td>34</td>\n      <td>0</td>\n      <td>Generic</td>\n      <td>1</td>\n    </tr>\n    <tr>\n      <th>175315</th>\n      <td>0.000005</td>\n      <td>udp</td>\n      <td>dns</td>\n      <td>INT</td>\n      <td>2</td>\n      <td>0</td>\n      <td>114</td>\n      <td>0</td>\n      <td>200000.005100</td>\n      <td>254</td>\n      <td>...</td>\n      <td>13</td>\n      <td>34</td>\n      <td>0</td>\n      <td>0</td>\n      <td>0</td>\n      <td>25</td>\n      <td>34</td>\n      <td>0</td>\n      <td>Generic</td>\n      <td>1</td>\n    </tr>\n    <tr>\n      <th>175316</th>\n      <td>0.000005</td>\n      <td>udp</td>\n      <td>dns</td>\n      <td>INT</td>\n      <td>2</td>\n      <td>0</td>\n      <td>114</td>\n      <td>0</td>\n      <td>200000.005100</td>\n      <td>254</td>\n      <td>...</td>\n      <td>13</td>\n      <td>34</td>\n      <td>0</td>\n      <td>0</td>\n      <td>0</td>\n      <td>25</td>\n      <td>34</td>\n      <td>0</td>\n      <td>Generic</td>\n      <td>1</td>\n    </tr>\n    <tr>\n      <th>175317</th>\n      <td>0.000005</td>\n      <td>udp</td>\n      <td>dns</td>\n      <td>INT</td>\n      <td>2</td>\n      <td>0</td>\n      <td>114</td>\n      <td>0</td>\n      <td>200000.005100</td>\n      <td>254</td>\n      <td>...</td>\n      <td>13</td>\n      <td>34</td>\n      <td>0</td>\n      <td>0</td>\n      <td>0</td>\n      <td>25</td>\n      <td>34</td>\n      <td>0</td>\n      <td>Generic</td>\n      <td>1</td>\n    </tr>\n    <tr>\n      <th>175318</th>\n      <td>0.000005</td>\n      <td>udp</td>\n      <td>dns</td>\n      <td>INT</td>\n      <td>2</td>\n      <td>0</td>\n      <td>114</td>\n      <td>0</td>\n      <td>200000.005100</td>\n      <td>254</td>\n      <td>...</td>\n      <td>13</td>\n      <td>34</td>\n      <td>0</td>\n      <td>0</td>\n      <td>0</td>\n      <td>25</td>\n      <td>34</td>\n      <td>0</td>\n      <td>Generic</td>\n      <td>1</td>\n    </tr>\n    <tr>\n      <th>175319</th>\n      <td>0.000005</td>\n      <td>udp</td>\n      <td>dns</td>\n      <td>INT</td>\n      <td>2</td>\n      <td>0</td>\n      <td>114</td>\n      <td>0</td>\n      <td>200000.005100</td>\n      <td>254</td>\n      <td>...</td>\n      <td>4</td>\n      <td>10</td>\n      <td>0</td>\n      <td>0</td>\n      <td>0</td>\n      <td>8</td>\n      <td>10</td>\n      <td>0</td>\n      <td>Generic</td>\n      <td>1</td>\n    </tr>\n    <tr>\n      <th>175320</th>\n      <td>0.000005</td>\n      <td>udp</td>\n      <td>dns</td>\n      <td>INT</td>\n      <td>2</td>\n      <td>0</td>\n      <td>114</td>\n      <td>0</td>\n      <td>200000.005100</td>\n      <td>254</td>\n      <td>...</td>\n      <td>12</td>\n      <td>34</td>\n      <td>0</td>\n      <td>0</td>\n      <td>0</td>\n      <td>25</td>\n      <td>34</td>\n      <td>0</td>\n      <td>Generic</td>\n      <td>1</td>\n    </tr>\n    <tr>\n      <th>175321</th>\n      <td>0.000005</td>\n      <td>udp</td>\n      <td>dns</td>\n      <td>INT</td>\n      <td>2</td>\n      <td>0</td>\n      <td>114</td>\n      <td>0</td>\n      <td>200000.005100</td>\n      <td>254</td>\n      <td>...</td>\n      <td>12</td>\n      <td>34</td>\n      <td>0</td>\n      <td>0</td>\n      <td>0</td>\n      <td>25</td>\n      <td>34</td>\n      <td>0</td>\n      <td>Generic</td>\n      <td>1</td>\n    </tr>\n    <tr>\n      <th>175322</th>\n      <td>0.000008</td>\n      <td>udp</td>\n      <td>dns</td>\n      <td>INT</td>\n      <td>2</td>\n      <td>0</td>\n      <td>114</td>\n      <td>0</td>\n      <td>125000.000300</td>\n      <td>254</td>\n      <td>...</td>\n      <td>11</td>\n      <td>44</td>\n      <td>0</td>\n      <td>0</td>\n      <td>0</td>\n      <td>11</td>\n      <td>44</td>\n      <td>0</td>\n      <td>Generic</td>\n      <td>1</td>\n    </tr>\n    <tr>\n      <th>175323</th>\n      <td>0.000004</td>\n      <td>udp</td>\n      <td>dns</td>\n      <td>INT</td>\n      <td>2</td>\n      <td>0</td>\n      <td>114</td>\n      <td>0</td>\n      <td>250000.000600</td>\n      <td>254</td>\n      <td>...</td>\n      <td>17</td>\n      <td>44</td>\n      <td>0</td>\n      <td>0</td>\n      <td>0</td>\n      <td>33</td>\n      <td>44</td>\n      <td>0</td>\n      <td>Generic</td>\n      <td>1</td>\n    </tr>\n    <tr>\n      <th>175324</th>\n      <td>0.000004</td>\n      <td>udp</td>\n      <td>dns</td>\n      <td>INT</td>\n      <td>2</td>\n      <td>0</td>\n      <td>114</td>\n      <td>0</td>\n      <td>250000.000600</td>\n      <td>254</td>\n      <td>...</td>\n      <td>17</td>\n      <td>44</td>\n      <td>0</td>\n      <td>0</td>\n      <td>0</td>\n      <td>33</td>\n      <td>44</td>\n      <td>0</td>\n      <td>Generic</td>\n      <td>1</td>\n    </tr>\n    <tr>\n      <th>175325</th>\n      <td>0.000009</td>\n      <td>udp</td>\n      <td>dns</td>\n      <td>INT</td>\n      <td>2</td>\n      <td>0</td>\n      <td>114</td>\n      <td>0</td>\n      <td>111111.107200</td>\n      <td>254</td>\n      <td>...</td>\n      <td>17</td>\n      <td>36</td>\n      <td>0</td>\n      <td>0</td>\n      <td>0</td>\n      <td>33</td>\n      <td>36</td>\n      <td>0</td>\n      <td>Generic</td>\n      <td>1</td>\n    </tr>\n    <tr>\n      <th>175326</th>\n      <td>0.000009</td>\n      <td>udp</td>\n      <td>dns</td>\n      <td>INT</td>\n      <td>2</td>\n      <td>0</td>\n      <td>114</td>\n      <td>0</td>\n      <td>111111.107200</td>\n      <td>254</td>\n      <td>...</td>\n      <td>17</td>\n      <td>36</td>\n      <td>0</td>\n      <td>0</td>\n      <td>0</td>\n      <td>33</td>\n      <td>36</td>\n      <td>0</td>\n      <td>Generic</td>\n      <td>1</td>\n    </tr>\n    <tr>\n      <th>175327</th>\n      <td>0.000009</td>\n      <td>udp</td>\n      <td>dns</td>\n      <td>INT</td>\n      <td>2</td>\n      <td>0</td>\n      <td>114</td>\n      <td>0</td>\n      <td>111111.107200</td>\n      <td>254</td>\n      <td>...</td>\n      <td>17</td>\n      <td>36</td>\n      <td>0</td>\n      <td>0</td>\n      <td>0</td>\n      <td>33</td>\n      <td>36</td>\n      <td>0</td>\n      <td>Generic</td>\n      <td>1</td>\n    </tr>\n    <tr>\n      <th>175328</th>\n      <td>0.000009</td>\n      <td>udp</td>\n      <td>dns</td>\n      <td>INT</td>\n      <td>2</td>\n      <td>0</td>\n      <td>114</td>\n      <td>0</td>\n      <td>111111.107200</td>\n      <td>254</td>\n      <td>...</td>\n      <td>16</td>\n      <td>36</td>\n      <td>0</td>\n      <td>0</td>\n      <td>0</td>\n      <td>33</td>\n      <td>36</td>\n      <td>0</td>\n      <td>Generic</td>\n      <td>1</td>\n    </tr>\n    <tr>\n      <th>175329</th>\n      <td>0.000009</td>\n      <td>udp</td>\n      <td>dns</td>\n      <td>INT</td>\n      <td>2</td>\n      <td>0</td>\n      <td>114</td>\n      <td>0</td>\n      <td>111111.107200</td>\n      <td>254</td>\n      <td>...</td>\n      <td>16</td>\n      <td>36</td>\n      <td>0</td>\n      <td>0</td>\n      <td>0</td>\n      <td>33</td>\n      <td>36</td>\n      <td>0</td>\n      <td>Generic</td>\n      <td>1</td>\n    </tr>\n    <tr>\n      <th>175330</th>\n      <td>0.000009</td>\n      <td>udp</td>\n      <td>dns</td>\n      <td>INT</td>\n      <td>2</td>\n      <td>0</td>\n      <td>114</td>\n      <td>0</td>\n      <td>111111.107200</td>\n      <td>254</td>\n      <td>...</td>\n      <td>16</td>\n      <td>36</td>\n      <td>0</td>\n      <td>0</td>\n      <td>0</td>\n      <td>33</td>\n      <td>36</td>\n      <td>0</td>\n      <td>Generic</td>\n      <td>1</td>\n    </tr>\n    <tr>\n      <th>175331</th>\n      <td>0.000009</td>\n      <td>udp</td>\n      <td>dns</td>\n      <td>INT</td>\n      <td>2</td>\n      <td>0</td>\n      <td>114</td>\n      <td>0</td>\n      <td>111111.107200</td>\n      <td>254</td>\n      <td>...</td>\n      <td>16</td>\n      <td>36</td>\n      <td>0</td>\n      <td>0</td>\n      <td>0</td>\n      <td>33</td>\n      <td>36</td>\n      <td>0</td>\n      <td>Generic</td>\n      <td>1</td>\n    </tr>\n    <tr>\n      <th>175332</th>\n      <td>0.000008</td>\n      <td>udp</td>\n      <td>dns</td>\n      <td>INT</td>\n      <td>2</td>\n      <td>0</td>\n      <td>114</td>\n      <td>0</td>\n      <td>125000.000300</td>\n      <td>254</td>\n      <td>...</td>\n      <td>12</td>\n      <td>45</td>\n      <td>0</td>\n      <td>0</td>\n      <td>0</td>\n      <td>12</td>\n      <td>45</td>\n      <td>0</td>\n      <td>Generic</td>\n      <td>1</td>\n    </tr>\n    <tr>\n      <th>175333</th>\n      <td>0.000008</td>\n      <td>udp</td>\n      <td>dns</td>\n      <td>INT</td>\n      <td>2</td>\n      <td>0</td>\n      <td>114</td>\n      <td>0</td>\n      <td>125000.000300</td>\n      <td>254</td>\n      <td>...</td>\n      <td>12</td>\n      <td>45</td>\n      <td>0</td>\n      <td>0</td>\n      <td>0</td>\n      <td>12</td>\n      <td>45</td>\n      <td>0</td>\n      <td>Generic</td>\n      <td>1</td>\n    </tr>\n    <tr>\n      <th>175334</th>\n      <td>0.000006</td>\n      <td>udp</td>\n      <td>dns</td>\n      <td>INT</td>\n      <td>2</td>\n      <td>0</td>\n      <td>114</td>\n      <td>0</td>\n      <td>166666.660800</td>\n      <td>254</td>\n      <td>...</td>\n      <td>17</td>\n      <td>45</td>\n      <td>0</td>\n      <td>0</td>\n      <td>0</td>\n      <td>33</td>\n      <td>45</td>\n      <td>0</td>\n      <td>Generic</td>\n      <td>1</td>\n    </tr>\n    <tr>\n      <th>175335</th>\n      <td>0.000006</td>\n      <td>udp</td>\n      <td>dns</td>\n      <td>INT</td>\n      <td>2</td>\n      <td>0</td>\n      <td>114</td>\n      <td>0</td>\n      <td>166666.660800</td>\n      <td>254</td>\n      <td>...</td>\n      <td>17</td>\n      <td>45</td>\n      <td>0</td>\n      <td>0</td>\n      <td>0</td>\n      <td>33</td>\n      <td>45</td>\n      <td>0</td>\n      <td>Generic</td>\n      <td>1</td>\n    </tr>\n    <tr>\n      <th>175336</th>\n      <td>0.000006</td>\n      <td>udp</td>\n      <td>dns</td>\n      <td>INT</td>\n      <td>2</td>\n      <td>0</td>\n      <td>114</td>\n      <td>0</td>\n      <td>166666.660800</td>\n      <td>254</td>\n      <td>...</td>\n      <td>17</td>\n      <td>45</td>\n      <td>0</td>\n      <td>0</td>\n      <td>0</td>\n      <td>33</td>\n      <td>45</td>\n      <td>0</td>\n      <td>Generic</td>\n      <td>1</td>\n    </tr>\n    <tr>\n      <th>175337</th>\n      <td>0.000009</td>\n      <td>udp</td>\n      <td>dns</td>\n      <td>INT</td>\n      <td>2</td>\n      <td>0</td>\n      <td>114</td>\n      <td>0</td>\n      <td>111111.107200</td>\n      <td>254</td>\n      <td>...</td>\n      <td>13</td>\n      <td>24</td>\n      <td>0</td>\n      <td>0</td>\n      <td>0</td>\n      <td>24</td>\n      <td>24</td>\n      <td>0</td>\n      <td>Generic</td>\n      <td>1</td>\n    </tr>\n    <tr>\n      <th>175338</th>\n      <td>0.505762</td>\n      <td>tcp</td>\n      <td>-</td>\n      <td>FIN</td>\n      <td>10</td>\n      <td>8</td>\n      <td>620</td>\n      <td>354</td>\n      <td>33.612649</td>\n      <td>254</td>\n      <td>...</td>\n      <td>1</td>\n      <td>2</td>\n      <td>0</td>\n      <td>0</td>\n      <td>0</td>\n      <td>1</td>\n      <td>1</td>\n      <td>0</td>\n      <td>Shellcode</td>\n      <td>1</td>\n    </tr>\n    <tr>\n      <th>175339</th>\n      <td>0.000009</td>\n      <td>udp</td>\n      <td>dns</td>\n      <td>INT</td>\n      <td>2</td>\n      <td>0</td>\n      <td>114</td>\n      <td>0</td>\n      <td>111111.107200</td>\n      <td>254</td>\n      <td>...</td>\n      <td>3</td>\n      <td>13</td>\n      <td>0</td>\n      <td>0</td>\n      <td>0</td>\n      <td>3</td>\n      <td>12</td>\n      <td>0</td>\n      <td>Generic</td>\n      <td>1</td>\n    </tr>\n    <tr>\n      <th>175340</th>\n      <td>0.000009</td>\n      <td>udp</td>\n      <td>dns</td>\n      <td>INT</td>\n      <td>2</td>\n      <td>0</td>\n      <td>114</td>\n      <td>0</td>\n      <td>111111.107200</td>\n      <td>254</td>\n      <td>...</td>\n      <td>14</td>\n      <td>30</td>\n      <td>0</td>\n      <td>0</td>\n      <td>0</td>\n      <td>30</td>\n      <td>30</td>\n      <td>0</td>\n      <td>Generic</td>\n      <td>1</td>\n    </tr>\n    <tr>\n      <th>175341</th>\n      <td>0.000009</td>\n      <td>udp</td>\n      <td>dns</td>\n      <td>INT</td>\n      <td>2</td>\n      <td>0</td>\n      <td>114</td>\n      <td>0</td>\n      <td>111111.107200</td>\n      <td>254</td>\n      <td>...</td>\n      <td>16</td>\n      <td>30</td>\n      <td>0</td>\n      <td>0</td>\n      <td>0</td>\n      <td>30</td>\n      <td>30</td>\n      <td>0</td>\n      <td>Generic</td>\n      <td>1</td>\n    </tr>\n  </tbody>\n</table>\n<p>175341 rows × 44 columns</p>\n</div>",
      "text/plain": "             dur proto service state  spkts  dpkts  sbytes  dbytes  \\\nid                                                                   \n1       0.121478   tcp       -   FIN      6      4     258     172   \n2       0.649902   tcp       -   FIN     14     38     734   42014   \n3       1.623129   tcp       -   FIN      8     16     364   13186   \n4       1.681642   tcp     ftp   FIN     12     12     628     770   \n5       0.449454   tcp       -   FIN     10      6     534     268   \n6       0.380537   tcp       -   FIN     10      6     534     268   \n7       0.637109   tcp       -   FIN     10      8     534     354   \n8       0.521584   tcp       -   FIN     10      8     534     354   \n9       0.542905   tcp       -   FIN     10      8     534     354   \n10      0.258687   tcp       -   FIN     10      6     534     268   \n11      0.304853   tcp       -   FIN     12      6    4142     268   \n12      2.093085   tcp    smtp   FIN     62     28   56329    2212   \n13      0.416952   tcp       -   FIN     10      6     534     268   \n14      0.996221   tcp       -   FIN     10      8     564     354   \n15      0.576755   tcp       -   FIN     10      8     534     354   \n16      0.000002   udp    snmp   INT      2      0     138       0   \n17      0.728252   tcp       -   FIN     10      6     534     268   \n18      0.393556   tcp    http   FIN     10      8     860    1096   \n19      0.387852   tcp       -   FIN     10      6     534     268   \n20      0.537840   tcp       -   FIN     10      8     534     354   \n21      0.233720   tcp       -   FIN     10      6     534     268   \n22      0.338017   tcp    http   FIN     10      6     998     268   \n23      0.964656   tcp     ftp   CON     14     12     690     950   \n24      0.449703   tcp       -   FIN     10      6     738     268   \n25      0.921025   tcp       -   FIN     10      6     534     268   \n26      0.600982   tcp       -   FIN     10      8     534     354   \n27      0.568945   tcp       -   FIN     10      6     534     268   \n28      0.497636   tcp       -   FIN     10      6    2074     268   \n29      0.546425   tcp    http   FIN     10      8    1168    1040   \n30      0.000012   udp       -   INT      2      0    1414       0   \n...          ...   ...     ...   ...    ...    ...     ...     ...   \n175312  0.000005   udp     dns   INT      2      0     114       0   \n175313  0.000005   udp     dns   INT      2      0     114       0   \n175314  0.000005   udp     dns   INT      2      0     114       0   \n175315  0.000005   udp     dns   INT      2      0     114       0   \n175316  0.000005   udp     dns   INT      2      0     114       0   \n175317  0.000005   udp     dns   INT      2      0     114       0   \n175318  0.000005   udp     dns   INT      2      0     114       0   \n175319  0.000005   udp     dns   INT      2      0     114       0   \n175320  0.000005   udp     dns   INT      2      0     114       0   \n175321  0.000005   udp     dns   INT      2      0     114       0   \n175322  0.000008   udp     dns   INT      2      0     114       0   \n175323  0.000004   udp     dns   INT      2      0     114       0   \n175324  0.000004   udp     dns   INT      2      0     114       0   \n175325  0.000009   udp     dns   INT      2      0     114       0   \n175326  0.000009   udp     dns   INT      2      0     114       0   \n175327  0.000009   udp     dns   INT      2      0     114       0   \n175328  0.000009   udp     dns   INT      2      0     114       0   \n175329  0.000009   udp     dns   INT      2      0     114       0   \n175330  0.000009   udp     dns   INT      2      0     114       0   \n175331  0.000009   udp     dns   INT      2      0     114       0   \n175332  0.000008   udp     dns   INT      2      0     114       0   \n175333  0.000008   udp     dns   INT      2      0     114       0   \n175334  0.000006   udp     dns   INT      2      0     114       0   \n175335  0.000006   udp     dns   INT      2      0     114       0   \n175336  0.000006   udp     dns   INT      2      0     114       0   \n175337  0.000009   udp     dns   INT      2      0     114       0   \n175338  0.505762   tcp       -   FIN     10      8     620     354   \n175339  0.000009   udp     dns   INT      2      0     114       0   \n175340  0.000009   udp     dns   INT      2      0     114       0   \n175341  0.000009   udp     dns   INT      2      0     114       0   \n\n                 rate  sttl  ...  ct_dst_sport_ltm  ct_dst_src_ltm  \\\nid                           ...                                     \n1           74.087490   252  ...                 1               1   \n2           78.473372    62  ...                 1               2   \n3           14.170161    62  ...                 1               3   \n4           13.677108    62  ...                 1               3   \n5           33.373826   254  ...                 1              40   \n6           39.417980   254  ...                 1              40   \n7           26.683033   254  ...                 1              40   \n8           32.593026   254  ...                 1              40   \n9           31.313031   254  ...                 1              40   \n10          57.985135   254  ...                 1              40   \n11          55.764583   254  ...                 1               3   \n12          42.520967    62  ...                 1               2   \n13          35.975363   254  ...                 1              40   \n14          17.064487   254  ...                 1               3   \n15          29.475254   254  ...                 1              40   \n16      500000.001300   254  ...                 1               4   \n17          20.597266   254  ...                 1              40   \n18          43.195886    62  ...                 1               2   \n19          38.674545   254  ...                 1              40   \n20          31.607913   254  ...                 1              40   \n21          64.179359   254  ...                 1              40   \n22          44.376468   254  ...                 1               1   \n23          25.915974    62  ...                 1               2   \n24          33.355347   254  ...                 1               3   \n25          16.286203   254  ...                 1              40   \n26          28.287036   254  ...                 1              40   \n27          26.364588   254  ...                 1              40   \n28          30.142514   254  ...                 1               4   \n29          31.111315   254  ...                 1               2   \n30       83333.330390   254  ...                 1               3   \n...               ...   ...  ...               ...             ...   \n175312  200000.005100   254  ...                15              37   \n175313  200000.005100   254  ...                 4              10   \n175314  200000.005100   254  ...                13              34   \n175315  200000.005100   254  ...                13              34   \n175316  200000.005100   254  ...                13              34   \n175317  200000.005100   254  ...                13              34   \n175318  200000.005100   254  ...                13              34   \n175319  200000.005100   254  ...                 4              10   \n175320  200000.005100   254  ...                12              34   \n175321  200000.005100   254  ...                12              34   \n175322  125000.000300   254  ...                11              44   \n175323  250000.000600   254  ...                17              44   \n175324  250000.000600   254  ...                17              44   \n175325  111111.107200   254  ...                17              36   \n175326  111111.107200   254  ...                17              36   \n175327  111111.107200   254  ...                17              36   \n175328  111111.107200   254  ...                16              36   \n175329  111111.107200   254  ...                16              36   \n175330  111111.107200   254  ...                16              36   \n175331  111111.107200   254  ...                16              36   \n175332  125000.000300   254  ...                12              45   \n175333  125000.000300   254  ...                12              45   \n175334  166666.660800   254  ...                17              45   \n175335  166666.660800   254  ...                17              45   \n175336  166666.660800   254  ...                17              45   \n175337  111111.107200   254  ...                13              24   \n175338      33.612649   254  ...                 1               2   \n175339  111111.107200   254  ...                 3              13   \n175340  111111.107200   254  ...                14              30   \n175341  111111.107200   254  ...                16              30   \n\n        is_ftp_login  ct_ftp_cmd  ct_flw_http_mthd  ct_src_ltm  ct_srv_dst  \\\nid                                                                           \n1                  0           0                 0           1           1   \n2                  0           0                 0           1           6   \n3                  0           0                 0           2           6   \n4                  1           1                 0           2           1   \n5                  0           0                 0           2          39   \n6                  0           0                 0           2          39   \n7                  0           0                 0           1          39   \n8                  0           0                 0           3          39   \n9                  0           0                 0           3          39   \n10                 0           0                 0           3          39   \n11                 0           0                 0           1           6   \n12                 0           0                 0           1           1   \n13                 0           0                 0           1          39   \n14                 0           0                 0           2           3   \n15                 0           0                 0           1          39   \n16                 0           0                 0           2           1   \n17                 0           0                 0           2          39   \n18                 0           0                 1           1           3   \n19                 0           0                 0           2          39   \n20                 0           0                 0           2          39   \n21                 0           0                 0           2          39   \n22                 0           0                 1           2           3   \n23                 1           1                 0           2           1   \n24                 0           0                 0           1           6   \n25                 0           0                 0           2          39   \n26                 0           0                 0           2          39   \n27                 0           0                 0           1          39   \n28                 0           0                 0           1           2   \n29                 0           0                 1           1           8   \n30                 0           0                 0           2           3   \n...              ...         ...               ...         ...         ...   \n175312             0           0                 0          32          37   \n175313             0           0                 0           8          10   \n175314             0           0                 0          25          34   \n175315             0           0                 0          25          34   \n175316             0           0                 0          25          34   \n175317             0           0                 0          25          34   \n175318             0           0                 0          25          34   \n175319             0           0                 0           8          10   \n175320             0           0                 0          25          34   \n175321             0           0                 0          25          34   \n175322             0           0                 0          11          44   \n175323             0           0                 0          33          44   \n175324             0           0                 0          33          44   \n175325             0           0                 0          33          36   \n175326             0           0                 0          33          36   \n175327             0           0                 0          33          36   \n175328             0           0                 0          33          36   \n175329             0           0                 0          33          36   \n175330             0           0                 0          33          36   \n175331             0           0                 0          33          36   \n175332             0           0                 0          12          45   \n175333             0           0                 0          12          45   \n175334             0           0                 0          33          45   \n175335             0           0                 0          33          45   \n175336             0           0                 0          33          45   \n175337             0           0                 0          24          24   \n175338             0           0                 0           1           1   \n175339             0           0                 0           3          12   \n175340             0           0                 0          30          30   \n175341             0           0                 0          30          30   \n\n        is_sm_ips_ports  attack_cat  label  \nid                                          \n1                     0      Normal      0  \n2                     0      Normal      0  \n3                     0      Normal      0  \n4                     0      Normal      0  \n5                     0      Normal      0  \n6                     0      Normal      0  \n7                     0      Normal      0  \n8                     0      Normal      0  \n9                     0      Normal      0  \n10                    0      Normal      0  \n11                    0      Normal      0  \n12                    0      Normal      0  \n13                    0      Normal      0  \n14                    0      Normal      0  \n15                    0      Normal      0  \n16                    0      Normal      0  \n17                    0      Normal      0  \n18                    0      Normal      0  \n19                    0      Normal      0  \n20                    0      Normal      0  \n21                    0      Normal      0  \n22                    0      Normal      0  \n23                    0      Normal      0  \n24                    0      Normal      0  \n25                    0      Normal      0  \n26                    0      Normal      0  \n27                    0      Normal      0  \n28                    0      Normal      0  \n29                    0      Normal      0  \n30                    0      Normal      0  \n...                 ...         ...    ...  \n175312                0     Generic      1  \n175313                0     Generic      1  \n175314                0     Generic      1  \n175315                0     Generic      1  \n175316                0     Generic      1  \n175317                0     Generic      1  \n175318                0     Generic      1  \n175319                0     Generic      1  \n175320                0     Generic      1  \n175321                0     Generic      1  \n175322                0     Generic      1  \n175323                0     Generic      1  \n175324                0     Generic      1  \n175325                0     Generic      1  \n175326                0     Generic      1  \n175327                0     Generic      1  \n175328                0     Generic      1  \n175329                0     Generic      1  \n175330                0     Generic      1  \n175331                0     Generic      1  \n175332                0     Generic      1  \n175333                0     Generic      1  \n175334                0     Generic      1  \n175335                0     Generic      1  \n175336                0     Generic      1  \n175337                0     Generic      1  \n175338                0   Shellcode      1  \n175339                0     Generic      1  \n175340                0     Generic      1  \n175341                0     Generic      1  \n\n[175341 rows x 44 columns]"
     },
     "execution_count": 2,
     "metadata": {},
     "output_type": "execute_result"
    }
   ],
   "source": [
    "df = pd.read_csv('classification/data.csv', index_col=0)\n",
    "df"
   ]
  },
  {
   "cell_type": "code",
   "execution_count": 6,
   "metadata": {},
   "outputs": [],
   "source": [
    "# Get GT labels\n",
    "dfLabels = df.label\n",
    "\n",
    "# Drop GT columns from dataset.\n",
    "dfNum = df.drop(['label','attack_cat'],axis=1)\n",
    "# Convert categorical attributes to numerical\n",
    "dfNum.proto = pd.Categorical(df.proto).codes\n",
    "dfNum.service = pd.Categorical(df.service).codes\n",
    "dfNum.state = pd.Categorical(df.state).codes"
   ]
  },
  {
   "cell_type": "code",
   "execution_count": 9,
   "metadata": {},
   "outputs": [
    {
     "data": {
      "text/plain": "(175341, 42)"
     },
     "execution_count": 9,
     "metadata": {},
     "output_type": "execute_result"
    }
   ],
   "source": [
    "# Normalize only numerical data\n",
    "dfNumNorm = dfNum\n",
    "scaler = MinMaxScaler()\n",
    "for col in dfNumNorm.select_dtypes(exclude='O').columns:\n",
    "    # Skip originally categorial columns\n",
    "    if col not in ['proto','service','state']:\n",
    "        scaledValues = scaler.fit_transform(dfNum[col].values.reshape(-1,1))\n",
    "        dfNumNorm[col] = scaledValues\n",
    "dfNumNorm.shape"
   ]
  },
  {
   "cell_type": "code",
   "execution_count": 11,
   "metadata": {},
   "outputs": [
    {
     "data": {
      "text/plain": "(175341, 42)"
     },
     "execution_count": 11,
     "metadata": {},
     "output_type": "execute_result"
    }
   ],
   "source": [
    "dfNumNormAll = dfNumNorm\n",
    "scaler = MinMaxScaler()\n",
    "# Normaliza also categorial data\n",
    "for col in ['proto','service','state']:\n",
    "    scaledValues = scaler.fit_transform(dfNum[col].values.reshape(-1,1))\n",
    "    dfNumNormAll[col] = scaledValues\n",
    "dfNumNormAll.shape"
   ]
  },
  {
   "cell_type": "code",
   "execution_count": 12,
   "metadata": {},
   "outputs": [],
   "source": [
    "# Create normalized numerical dataset without categorial columns\n",
    "dfNumOnly = dfNumNorm.drop(['proto','service','state'],axis=1)"
   ]
  },
  {
   "cell_type": "code",
   "execution_count": 16,
   "metadata": {},
   "outputs": [],
   "source": [
    "dfNumOnly10Feat= PCA(n_components=10).fit_transform(dfNumOnly)\n",
    "dfNumOnly20Feat= PCA(n_components=20).fit_transform(dfNumOnly)"
   ]
  },
  {
   "cell_type": "code",
   "execution_count": 17,
   "metadata": {},
   "outputs": [
    {
     "name": "stdout",
     "output_type": "stream",
     "text": "dfNum (175341, 42) numerical data without labels\ndfNumNorm (175341, 42) normalized numerical data without labels, converted categorial columns are not normalized\ndfNumNormAll (175341, 42) numerical data without labels, converted categorial columns are normalized\ndfNumOnly (175341, 39) only numerical data withou categorial columns\ndfNumOnly10Feat (175341, 10) only numerical data withou categorial columns, reduced to 10 features\ndfNumOnly20Feat (175341, 20) only numerical data withou categorial columns, reduced to 20 features\n"
    }
   ],
   "source": [
    "# Dataset recapitulation\n",
    "#dfNum numerical data without GT\n",
    "print(f\"dfNum {dfNum.shape} numerical data without labels\")\n",
    "print(f\"dfNumNorm {dfNumNorm.shape} normalized numerical data without labels, converted categorial columns are not normalized\")\n",
    "print(f\"dfNumNormAll {dfNumNormAll.shape} numerical data without labels, converted categorial columns are normalized\")\n",
    "print(f\"dfNumOnly {dfNumOnly.shape} only numerical data withou categorial columns\")\n",
    "print(f\"dfNumOnly10Feat {dfNumOnly10Feat.shape} only numerical data withou categorial columns, reduced to 10 features\")\n",
    "print(f\"dfNumOnly20Feat {dfNumOnly20Feat.shape} only numerical data withou categorial columns, reduced to 20 features\")"
   ]
  },
  {
   "cell_type": "code",
   "execution_count": 71,
   "metadata": {},
   "outputs": [
    {
     "name": "stderr",
     "output_type": "stream",
     "text": "C:\\Users\\theaz\\Anaconda3\\lib\\site-packages\\sklearn\\svm\\base.py:241: ConvergenceWarning: Solver terminated early (max_iter=5000).  Consider pre-processing your data with StandardScaler or MinMaxScaler.\n  % self.max_iter, ConvergenceWarning)\nDone it\nC:\\Users\\theaz\\Anaconda3\\lib\\site-packages\\sklearn\\svm\\base.py:241: ConvergenceWarning: Solver terminated early (max_iter=5000).  Consider pre-processing your data with StandardScaler or MinMaxScaler.\n  % self.max_iter, ConvergenceWarning)\nDone it\nC:\\Users\\theaz\\Anaconda3\\lib\\site-packages\\sklearn\\svm\\base.py:241: ConvergenceWarning: Solver terminated early (max_iter=5000).  Consider pre-processing your data with StandardScaler or MinMaxScaler.\n  % self.max_iter, ConvergenceWarning)\nDone it\n"
    },
    {
     "data": {
      "text/html": "<div>\n<style scoped>\n    .dataframe tbody tr th:only-of-type {\n        vertical-align: middle;\n    }\n\n    .dataframe tbody tr th {\n        vertical-align: top;\n    }\n\n    .dataframe thead th {\n        text-align: right;\n    }\n</style>\n<table border=\"1\" class=\"dataframe\">\n  <thead>\n    <tr style=\"text-align: right;\">\n      <th></th>\n      <th>Accuracy</th>\n      <th>F1-Score</th>\n      <th>Fit time [s]</th>\n      <th>Name</th>\n    </tr>\n  </thead>\n  <tbody>\n    <tr>\n      <th>0</th>\n      <td>0.601708</td>\n      <td>0.709814</td>\n      <td>30.680969</td>\n      <td>Normalized X 20 Components</td>\n    </tr>\n    <tr>\n      <th>1</th>\n      <td>0.554879</td>\n      <td>0.594539</td>\n      <td>31.009869</td>\n      <td>Normalized X 20 Components</td>\n    </tr>\n    <tr>\n      <th>2</th>\n      <td>0.369052</td>\n      <td>0.391217</td>\n      <td>33.799084</td>\n      <td>Normalized X 20 Components</td>\n    </tr>\n  </tbody>\n</table>\n</div>",
      "text/plain": "   Accuracy  F1-Score  Fit time [s]                        Name\n0  0.601708  0.709814     30.680969  Normalized X 20 Components\n1  0.554879  0.594539     31.009869  Normalized X 20 Components\n2  0.369052  0.391217     33.799084  Normalized X 20 Components"
     },
     "execution_count": 71,
     "metadata": {},
     "output_type": "execute_result"
    }
   ],
   "source": [
    "# SVM - KFold\n",
    "def kfold_test(name,dataset,results):\n",
    "    svmKF = KFold(n_splits=3, shuffle=True)\n",
    "    for train_index, test_index in svmKF.split(dataset):\n",
    "        X_train, X_test = dataset[train_index], dataset[test_index]\n",
    "        Y_train, Y_test = Y[train_index], Y[test_index]\n",
    "        svmClassificator = svm.SVC(gamma='scale',kernel='rbf',C=100000,max_iter=5000)\n",
    "        start = timer()\n",
    "        svmClassificator.fit(X_train, Y_train)\n",
    "        end = timer()\n",
    "        fitTime = end-start\n",
    "        accuracy =  svmClassificator.score(X_test, Y_test)\n",
    "        predicted = svmClassificator.predict(X_test)\n",
    "        f1 = f1_score(Y_test, predicted)\n",
    "        results.append({\n",
    "            \"Name\": name,\n",
    "            \"Accuracy\": accuracy,\n",
    "            \"F1-Score\": f1,\n",
    "            \"Fit time [s]\": fitTime\n",
    "        })\n",
    "        print(\"Done it\")\n",
    "\n",
    "results = []\n",
    "# kfold_test(\"X 43 Components\", X, results)\n",
    "# kfold_test(\"Normalized X 43 Components\", XScaled, results)\n",
    "# kfold_test(\"X 20 Components\", XReduced, results)\n",
    "kfold_test(\"Normalized X 20 Components\", XScaledReduced, results)\n",
    "results = pd.DataFrame(results)\n",
    "results"
   ]
  },
  {
   "cell_type": "code",
   "execution_count": 99,
   "metadata": {},
   "outputs": [
    {
     "data": {
      "text/html": "<div>\n<style scoped>\n    .dataframe tbody tr th:only-of-type {\n        vertical-align: middle;\n    }\n\n    .dataframe tbody tr th {\n        vertical-align: top;\n    }\n\n    .dataframe thead th {\n        text-align: right;\n    }\n</style>\n<table border=\"1\" class=\"dataframe\">\n  <thead>\n    <tr style=\"text-align: right;\">\n      <th></th>\n      <th>Accuracy</th>\n      <th>F1-Score</th>\n      <th>Fit time [s]</th>\n      <th>Name</th>\n    </tr>\n  </thead>\n  <tbody>\n    <tr>\n      <th>0</th>\n      <td>0.936113</td>\n      <td>0.953246</td>\n      <td>2.121464</td>\n      <td>X 20 Components</td>\n    </tr>\n    <tr>\n      <th>1</th>\n      <td>0.936147</td>\n      <td>0.953124</td>\n      <td>2.049771</td>\n      <td>X 20 Components</td>\n    </tr>\n    <tr>\n      <th>2</th>\n      <td>0.937088</td>\n      <td>0.953923</td>\n      <td>2.138477</td>\n      <td>X 20 Components</td>\n    </tr>\n    <tr>\n      <th>3</th>\n      <td>0.937448</td>\n      <td>0.954112</td>\n      <td>2.119689</td>\n      <td>Normalized X 20 Components</td>\n    </tr>\n    <tr>\n      <th>4</th>\n      <td>0.935446</td>\n      <td>0.952832</td>\n      <td>2.098300</td>\n      <td>Normalized X 20 Components</td>\n    </tr>\n    <tr>\n      <th>5</th>\n      <td>0.936216</td>\n      <td>0.953248</td>\n      <td>2.142718</td>\n      <td>Normalized X 20 Components</td>\n    </tr>\n    <tr>\n      <th>6</th>\n      <td>0.931596</td>\n      <td>0.950014</td>\n      <td>0.881761</td>\n      <td>Normalized X 10 Components</td>\n    </tr>\n    <tr>\n      <th>7</th>\n      <td>0.933769</td>\n      <td>0.951454</td>\n      <td>0.943672</td>\n      <td>Normalized X 10 Components</td>\n    </tr>\n    <tr>\n      <th>8</th>\n      <td>0.934009</td>\n      <td>0.951658</td>\n      <td>0.858979</td>\n      <td>Normalized X 10 Components</td>\n    </tr>\n    <tr>\n      <th>9</th>\n      <td>0.946208</td>\n      <td>0.960436</td>\n      <td>1.255395</td>\n      <td>X 42 Components</td>\n    </tr>\n    <tr>\n      <th>10</th>\n      <td>0.945694</td>\n      <td>0.960104</td>\n      <td>1.242182</td>\n      <td>X 42 Components</td>\n    </tr>\n    <tr>\n      <th>11</th>\n      <td>0.947200</td>\n      <td>0.961569</td>\n      <td>1.167368</td>\n      <td>X 42 Components</td>\n    </tr>\n    <tr>\n      <th>12</th>\n      <td>0.948346</td>\n      <td>0.962143</td>\n      <td>1.198454</td>\n      <td>Normalized X 42 Components</td>\n    </tr>\n    <tr>\n      <th>13</th>\n      <td>0.945130</td>\n      <td>0.959861</td>\n      <td>1.364270</td>\n      <td>Normalized X 42 Components</td>\n    </tr>\n    <tr>\n      <th>14</th>\n      <td>0.946960</td>\n      <td>0.961158</td>\n      <td>1.201381</td>\n      <td>Normalized X 42 Components</td>\n    </tr>\n  </tbody>\n</table>\n</div>",
      "text/plain": "    Accuracy  F1-Score  Fit time [s]                        Name\n0   0.936113  0.953246      2.121464             X 20 Components\n1   0.936147  0.953124      2.049771             X 20 Components\n2   0.937088  0.953923      2.138477             X 20 Components\n3   0.937448  0.954112      2.119689  Normalized X 20 Components\n4   0.935446  0.952832      2.098300  Normalized X 20 Components\n5   0.936216  0.953248      2.142718  Normalized X 20 Components\n6   0.931596  0.950014      0.881761  Normalized X 10 Components\n7   0.933769  0.951454      0.943672  Normalized X 10 Components\n8   0.934009  0.951658      0.858979  Normalized X 10 Components\n9   0.946208  0.960436      1.255395             X 42 Components\n10  0.945694  0.960104      1.242182             X 42 Components\n11  0.947200  0.961569      1.167368             X 42 Components\n12  0.948346  0.962143      1.198454  Normalized X 42 Components\n13  0.945130  0.959861      1.364270  Normalized X 42 Components\n14  0.946960  0.961158      1.201381  Normalized X 42 Components"
     },
     "execution_count": 99,
     "metadata": {},
     "output_type": "execute_result"
    }
   ],
   "source": [
    "# Decision trees - KFold\n",
    "def decision_tree_kfold_test(name,dataset,results):\n",
    "    svmKF = KFold(n_splits=3, shuffle=True)\n",
    "    for train_index, test_index in svmKF.split(dataset):\n",
    "        \n",
    "        X_train, X_test = dataset[train_index], dataset[test_index]\n",
    "        Y_train, Y_test = Y[train_index], Y[test_index]\n",
    "        decTree = DecisionTreeClassifier(min_samples_leaf=10)\n",
    "        start = timer()\n",
    "        decTree.fit(X_train, Y_train)\n",
    "        end = timer()\n",
    "        fitCalcTime = end - start\n",
    "        accuracy =  decTree.score(X_test, Y_test)\n",
    "        predicted = decTree.predict(X_test)\n",
    "        f1 = f1_score(Y_test, predicted)\n",
    "        results.append({\n",
    "            \"Name\": name,\n",
    "            \"Accuracy\": accuracy,\n",
    "            \"F1-Score\": f1,\n",
    "            \"Fit time [s]\": fitCalcTime\n",
    "        })\n",
    "        # print(f\"Done with iteration for {name}\")\n",
    "tree_results = []\n",
    "decision_tree_kfold_test(\"X 20 Components\", XReduced, tree_results)\n",
    "decision_tree_kfold_test(\"Normalized X 20 Components\", XScaledReduced, tree_results)\n",
    "decision_tree_kfold_test(\"Normalized X 10 Components\", XScaled10, tree_results)\n",
    "decision_tree_kfold_test(\"X 42 Components\", X, tree_results)\n",
    "decision_tree_kfold_test(\"Normalized X 42 Components\", XScaled, tree_results)\n",
    "tree_results = pd.DataFrame(tree_results)\n",
    "tree_results"
   ]
  },
  {
   "cell_type": "code",
   "execution_count": 91,
   "metadata": {},
   "outputs": [],
   "source": [
    "def test_nn(trainData, trainGT, testData, testGT, layers,initial_learning_rate, activation_fn='tanh', iters=15000):\n",
    "    nnModel = MLPClassifier(  hidden_layer_sizes=layers,\n",
    "                            learning_rate_init=initial_learning_rate,\n",
    "                            activation=activation_fn,\n",
    "                            solver='adam',\n",
    "                            verbose=False,\n",
    "                            max_iter=iters)\n",
    "    start = timer()\n",
    "    trainedModel = nnModel.fit(trainData, trainGT)\n",
    "    end = timer()\n",
    "    time = end-start\n",
    "    # probs = trainedModel.predict_proba(testData)\n",
    "    score = trainedModel.score(testData, testGT)\n",
    "    predictedLabels = trainedModel.predict(testData)\n",
    "    f1 = f1_score(testGT, predictedLabels)\n",
    "    return (score,f1,time)"
   ]
  },
  {
   "cell_type": "code",
   "execution_count": 97,
   "metadata": {},
   "outputs": [],
   "source": [
    "def nn_kfold_test(name,dataset,results):\n",
    "    svmKF = KFold(n_splits=3, shuffle=True)\n",
    "    for train_index, test_index in svmKF.split(dataset):\n",
    "        X_train, X_test = dataset[train_index], dataset[test_index]\n",
    "        Y_train, Y_test = Y[train_index], Y[test_index]\n",
    "\n",
    "        accuracy,f1,fitTime = test_nn(X_train, Y_train, X_test, Y_test, (8,5), 0.025,'tanh', 500)\n",
    "        results.append({\n",
    "            \"Name\": name,\n",
    "            \"Accuracy\": accuracy,\n",
    "            \"F1-Score\": f1,\n",
    "            \"Fit time [s]\": fitTime\n",
    "        })\n",
    "        print(f\"Done with iteration for {name}\")"
   ]
  },
  {
   "cell_type": "code",
   "execution_count": 98,
   "metadata": {},
   "outputs": [
    {
     "name": "stdout",
     "output_type": "stream",
     "text": "Done with iteration for Normalized X 20 Components\nDone with iteration for Normalized X 20 Components\nDone with iteration for Normalized X 20 Components\nDone with iteration for Normalized X 10 Components\nDone with iteration for Normalized X 10 Components\nDone with iteration for Normalized X 10 Components\n"
    },
    {
     "data": {
      "text/html": "<div>\n<style scoped>\n    .dataframe tbody tr th:only-of-type {\n        vertical-align: middle;\n    }\n\n    .dataframe tbody tr th {\n        vertical-align: top;\n    }\n\n    .dataframe thead th {\n        text-align: right;\n    }\n</style>\n<table border=\"1\" class=\"dataframe\">\n  <thead>\n    <tr style=\"text-align: right;\">\n      <th></th>\n      <th>Accuracy</th>\n      <th>F1-Score</th>\n      <th>Fit time [s]</th>\n      <th>Name</th>\n    </tr>\n  </thead>\n  <tbody>\n    <tr>\n      <th>0</th>\n      <td>0.933666</td>\n      <td>0.953439</td>\n      <td>12.055757</td>\n      <td>Normalized X 20 Components</td>\n    </tr>\n    <tr>\n      <th>1</th>\n      <td>0.939210</td>\n      <td>0.957035</td>\n      <td>19.196889</td>\n      <td>Normalized X 20 Components</td>\n    </tr>\n    <tr>\n      <th>2</th>\n      <td>0.937584</td>\n      <td>0.955703</td>\n      <td>22.410926</td>\n      <td>Normalized X 20 Components</td>\n    </tr>\n    <tr>\n      <th>3</th>\n      <td>0.935993</td>\n      <td>0.955137</td>\n      <td>20.895949</td>\n      <td>Normalized X 10 Components</td>\n    </tr>\n    <tr>\n      <th>4</th>\n      <td>0.935138</td>\n      <td>0.954011</td>\n      <td>41.339860</td>\n      <td>Normalized X 10 Components</td>\n    </tr>\n    <tr>\n      <th>5</th>\n      <td>0.936199</td>\n      <td>0.954483</td>\n      <td>27.384588</td>\n      <td>Normalized X 10 Components</td>\n    </tr>\n  </tbody>\n</table>\n</div>",
      "text/plain": "   Accuracy  F1-Score  Fit time [s]                        Name\n0  0.933666  0.953439     12.055757  Normalized X 20 Components\n1  0.939210  0.957035     19.196889  Normalized X 20 Components\n2  0.937584  0.955703     22.410926  Normalized X 20 Components\n3  0.935993  0.955137     20.895949  Normalized X 10 Components\n4  0.935138  0.954011     41.339860  Normalized X 10 Components\n5  0.936199  0.954483     27.384588  Normalized X 10 Components"
     },
     "execution_count": 98,
     "metadata": {},
     "output_type": "execute_result"
    }
   ],
   "source": [
    "# Decision trees - KFold\n",
    "\n",
    "nn_results = []\n",
    "# nn_kfold_test(\"X 20 Components\", XReduced, nn_results)\n",
    "nn_kfold_test(\"Normalized X 20 Components\", XScaledReduced, nn_results)\n",
    "nn_kfold_test(\"Normalized X 10 Components\", XScaled10, nn_results)\n",
    "# nn_kfold_test(\"X 42 Components\", X, nn_results)\n",
    "# nn_kfold_test(\"Normalized X 42 Components\", XScaled, nn_results)\n",
    "nn_results = pd.DataFrame(nn_results)\n",
    "nn_results\n"
   ]
  }
 ]
}