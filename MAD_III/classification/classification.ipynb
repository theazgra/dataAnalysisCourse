{
 "nbformat": 4,
 "nbformat_minor": 2,
 "metadata": {
  "language_info": {
   "name": "python",
   "codemirror_mode": {
    "name": "ipython",
    "version": 3
   },
   "version": "3.7.3"
  },
  "orig_nbformat": 2,
  "file_extension": ".py",
  "mimetype": "text/x-python",
  "name": "python",
  "npconvert_exporter": "python",
  "pygments_lexer": "ipython3",
  "version": 3
 },
 "cells": [
  {
   "cell_type": "code",
   "execution_count": 1,
   "metadata": {},
   "outputs": [],
   "source": [
    "from sklearn import svm\n",
    "from sklearn.model_selection import KFold\n",
    "from sklearn.neural_network import MLPClassifier\n",
    "import pandas as pd\n",
    "import numpy as np\n",
    "import matplotlib.pyplot as plt\n",
    "import os"
   ]
  },
  {
   "cell_type": "code",
   "execution_count": 4,
   "metadata": {},
   "outputs": [
    {
     "data": {
      "text/plain": "(175341, 44)"
     },
     "execution_count": 4,
     "metadata": {},
     "output_type": "execute_result"
    }
   ],
   "source": [
    "data = pd.read_csv('classification/data.csv', index_col=0)\n",
    "data.shape"
   ]
  },
  {
   "cell_type": "code",
   "execution_count": 41,
   "metadata": {},
   "outputs": [],
   "source": [
    "# Convert categorical attributes to numerical\n",
    "dataNum = data\n",
    "dataNum.proto = pd.Categorical(data.proto).codes\n",
    "dataNum.service = pd.Categorical(data.service).codes\n",
    "dataNum.state = pd.Categorical(data.state).codes\n",
    "dataNum.attack_cat = pd.Categorical(data.attack_cat).codes"
   ]
  },
  {
   "cell_type": "code",
   "execution_count": 45,
   "metadata": {},
   "outputs": [
    {
     "name": "stdout",
     "output_type": "stream",
     "text": "dur\nproto\nservice\nstate\nspkts\ndpkts\nsbytes\ndbytes\nrate\nsttl\ndttl\nsload\ndload\nsloss\ndloss\nsinpkt\ndinpkt\nsjit\ndjit\nswin\nstcpb\ndtcpb\ndwin\ntcprtt\nsynack\nackdat\nsmean\ndmean\ntrans_depth\nresponse_body_len\nct_srv_src\nct_state_ttl\nct_dst_ltm\n"
    },
  }
 ]
}