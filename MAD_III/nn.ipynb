{
 "nbformat": 4,
 "nbformat_minor": 2,
 "metadata": {
  "language_info": {
   "name": "python",
   "codemirror_mode": {
    "name": "ipython",
    "version": 3
   }
  },
  "orig_nbformat": 2,
  "file_extension": ".py",
  "mimetype": "text/x-python",
  "name": "python",
  "npconvert_exporter": "python",
  "pygments_lexer": "ipython3",
  "version": 3
 },
 "cells": [
  {
   "cell_type": "code",
   "execution_count": 3,
   "metadata": {},
   "outputs": [],
   "source": [
    "from sklearn import svm\n",
    "from sklearn.model_selection import KFold\n",
    "from sklearn.neural_network import MLPClassifier\n",
    "import pandas as pd\n",
    "import numpy as np\n",
    "import matplotlib.pyplot as plt\n",
    "import os\n",
    "os.chdir(\"MAD_III\")"
   ]
  },
  {
   "cell_type": "code",
   "execution_count": null,
   "metadata": {},
   "outputs": [],
   "source": [
    "![title](D:\\\\codes\\\\git\\\\dataAnalysisCourse\\MAD_III\\minimalNN.png)"
   ]
  },
  {
   "cell_type": "code",
   "execution_count": 4,
   "metadata": {},
   "outputs": [],
   "source": [
    "iris = pd.read_csv(\"data/iris.csv\",header=None,sep=';')\n",
    "irisInput = [[iris[0][x],iris[1][x],iris[2][x],iris[3][x]] for x in range(len(iris))]\n",
    "irisGT = [iris[4][x] for x in range(len(iris))]\n",
    "# correct = sum([ irisGT[x] == irisPredicted[x] for x in range(len(irisInput))])\n",
    "# precision = float(correct) / len(irisInput)\n",
    "#print(precision)"
   ]
  },
  {
   "cell_type": "code",
   "execution_count": null,
   "metadata": {},
   "outputs": [],
   "source": [
    "k = 4\n",
    "kFold = KFold(n_splits=k,shuffle=False)\n",
    "dataset = kFold.split(data)\n",
    "\n",
    "benchmark = []\n",
    "splitDataset = []\n",
    "\n",
    "for trainIndices,testIndices in kFold.split(data):\n",
    "    splitDataset.append({\n",
    "        \"train\": [[data[0][rowIndex], data[1][rowIndex]] for rowIndex in trainIndices],\n",
    "        \"test\": [[data[0][rowIndex], data[1][rowIndex]] for rowIndex in testIndices],\n",
    "        \"trainGT\": [data[2][rowIndex] for rowIndex in trainIndices],\n",
    "        \"testGT\": [data[2][rowIndex] for rowIndex in testIndices]\n",
    "    })\n"
   ]
  },
  {
   "cell_type": "code",
   "execution_count": 51,
   "metadata": {},
   "outputs": [
    {
     "name": "stdout",
     "output_type": "stream",
     "text": "0.04906439724183123\n"
    }
   ],
   "source": [
    "magic = MLPClassifier(  hidden_layer_sizes=(3,3), \n",
    "                        learning_rate='adaptive', # useless when using adam solver, only useful for SGD.\n",
    "                        learning_rate_init=0.05,\n",
    "                        activation='tanh',\n",
    "                        solver='adam',\n",
    "                        verbose=False,\n",
    "                        max_iter=1000)\n",
    "irisModel = magic.fit(irisInput, irisGT)\n",
    "print(irisModel.loss_)"
   ]
  }
 ]
}