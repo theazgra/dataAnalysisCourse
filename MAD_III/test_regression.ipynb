{
 "cells": [
  {
   "cell_type": "code",
   "execution_count": 2,
   "metadata": {},
   "outputs": [],
   "source": [
    "import pandas as pd\n",
    "import matplotlib.pyplot as plt\n",
    "from sklearn.tree import DecisionTreeRegressor\n",
    "from sklearn.decomposition import PCA\n",
    "from sklearn.metrics import mean_squared_error\n",
    "from sklearn.metrics import mean_absolute_error\n",
    "from sklearn.metrics import max_error\n",
    "from sklearn.metrics import r2_score\n",
    "import numpy as np\n",
    "from timeit import default_timer as timer"
   ]
  },
  {
   "cell_type": "code",
   "execution_count": 16,
   "metadata": {},
   "outputs": [],
   "source": [
    "df = pd.read_csv(\"data/df.csv\",sep=';',header=None)\n",
    "gt = df[63]\n",
    "df = df.drop([63],axis=1)"
   ]
  },
  {
   "cell_type": "code",
   "execution_count": 42,
   "metadata": {},
   "outputs": [],
   "source": [
    "#df.shape\n",
    "df=PCA(n_components=20).fit_transform(df)"
   ]
  },
  {
   "cell_type": "code",
   "execution_count": 43,
   "metadata": {},
   "outputs": [
    {
     "name": "stdout",
     "output_type": "stream",
     "text": "Train size: 155 Test size: 38\n"
    }
   ],
   "source": [
    "train = []\n",
    "trainGt = []\n",
    "test = []\n",
    "testGt = []\n",
    "values = df\n",
    "trainCount = len(df) * 0.80\n",
    "for x in range(len(df)):\n",
    "    if x < trainCount:\n",
    "        train.append(values[x])\n",
    "        trainGt.append(gt[x])\n",
    "    else:\n",
    "        test.append(values[x])\n",
    "        testGt.append(gt[x])\n",
    "assert len(train) == len(trainGt)\n",
    "assert len(test) == len(testGt)\n",
    "print(f\"Train size: {len(train)} Test size: {len(test)}\")"
   ]
  },
  {
   "cell_type": "code",
   "execution_count": 45,
   "metadata": {},
   "outputs": [],
   "source": [
    "def test_regressor(name,regressor):\n",
    "    start = timer()\n",
    "    regressor.fit(train, trainGt)\n",
    "    fitTime = timer() - start\n",
    "    predictedValues = regressor.predict(test)\n",
    "    r2Score = regressor.score(test, testGt)\n",
    "    mse = mean_squared_error(testGt, predictedValues)\n",
    "    maxE = max_error(testGt, predictedValues)\n",
    "    mae = mean_absolute_error(testGt, predictedValues)\n",
    "    return { \"name\": name, \"r2\": r2Score, \"mae\": mae, \"mse\": mse, \"max_error\": maxE, \"fit_time\": fitTime }"
   ]
  },
  {
   "cell_type": "code",
   "execution_count": 64,
   "metadata": {},
   "outputs": [
    {
     "name": "stdout",
     "output_type": "stream",
     "text": "Means: MSE: 43533675.53322369, MAE: 4939.803289473684, R2: -1.4082151131116312\n"
    }
   ],
   "source": [
    "# DecisionTreeRegressor\n",
    "res=[]\n",
    "n=20\n",
    "for x in range(n):\n",
    "    dtr_mse = DecisionTreeRegressor(criterion=\"mse\", min_samples_split=2, max_depth=1000)\n",
    "    res.append( test_regressor(\"DTR_mse\",dtr_mse))\n",
    "\n",
    "mmae = sum([x[\"mae\"] for x in res])\n",
    "mmae /= float(n)\n",
    "mr2 = sum([x[\"r2\"] for x in res])\n",
    "mr2 /= float(n)\n",
    "mmse = sum([x[\"mse\"] for x in res])\n",
    "mmse /= float(n)\n",
    "print(f\"Means: MSE: {mmse}, MAE: {mmae}, R2: {mr2}\")\n",
    "# dtr_mae = DecisionTreeRegressor(criterion=\"mae\", min_samples_split=2, max_depth=1000)\n",
    "# results.append(test_regressor(\"DTR_mae\",dtr_mae))"
   ]
  }
 ],
 "metadata": {
  "file_extension": ".py",
  "kernelspec": {
   "display_name": "Python 3",
   "language": "python",
   "name": "python3"
  },
  "language_info": {
   "codemirror_mode": {
    "name": "ipython",
    "version": 3
   },
   "file_extension": ".py",
   "mimetype": "text/x-python",
   "name": "python",
   "nbconvert_exporter": "python",
   "pygments_lexer": "ipython3",
   "version": "3.7.3"
  },
  "mimetype": "text/x-python",
  "name": "python",
  "npconvert_exporter": "python",
  "pygments_lexer": "ipython3",
  "version": 3
 },
 "nbformat": 4,
 "nbformat_minor": 2
}